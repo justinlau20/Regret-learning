{
 "cells": [
  {
   "attachments": {},
   "cell_type": "markdown",
   "metadata": {},
   "source": [
    "Given N battlefields and S soldiers, the number of possible distributions of soldiers is \n",
    "$${N + S - 1 \\choose N - 1}$$\n",
    "By partitioning on the number of soldiers on the first battlefield and letting $s$ be the number of soldiers in the remaining $N-1$ battlefields, we note\n",
    "$$\n",
    "{N + S - 1 \\choose N - 1} = \\sum_{s = 0}^S {N + s - 2 \\choose N - 2}\n",
    "\n",
    "$$\n",
    "We can hence extract the number of soldiers on the first battlefield. Then we proceed recursively. For example, for $(N, S) = (3,4)$, we have $15$ possibilities. Let $i$ denote the index.\n",
    "\n",
    "\n",
    "If $i < {N - 2 \\choose N - 2} = 1$, we know the first battlefield contains all soldiers.\n",
    "\n",
    "Elif $i < 1 + {N + 1 - 2 \\choose N - 2} = 1 + 2$, we know the first battlefield all but one soldiers.\n",
    "\n",
    "Elif $i < 1 + 2 + {N + 2 - 2 \\choose N - 2} = 1 + 2 + 3$, we know the first battlefield all but two soldiers.\n",
    "\n",
    "etc. Once we know the amount of soldiers in the first battlefield, we call the function on $(N-1, S-s)$.\n",
    "\n",
    "For example, if $i=4$, we see that the first battlefield has 2 solders. We then set $i = i- 3=1$ and run the function on $(2, 2)$ so we know that the second battlefield has 1 soldier.\n",
    "\n",
    "\n",
    "\n"
   ]
  },
  {
   "attachments": {},
   "cell_type": "markdown",
   "metadata": {},
   "source": [
    "Now we find the NE"
   ]
  },
  {
   "cell_type": "code",
   "execution_count": 1,
   "metadata": {},
   "outputs": [],
   "source": [
    "from infrastructure import find_Nash\n",
    "from Blotto_infra import *\n",
    "import  numpy as np"
   ]
  },
  {
   "cell_type": "code",
   "execution_count": 2,
   "metadata": {},
   "outputs": [
    {
     "data": {
      "text/plain": [
       "array([ 0,  0, 10,  0,  0])"
      ]
     },
     "execution_count": 2,
     "metadata": {},
     "output_type": "execute_result"
    }
   ],
   "source": [
    "def soldier_dist(i, N, S, out):\n",
    "    if S == 0:\n",
    "        out += [0] * N\n",
    "        return np.array(out)\n",
    "    if N == 1:\n",
    "        out.append(S)\n",
    "        return np.array(out)\n",
    "\n",
    "    temp = 1\n",
    "    for s in range(S + 1):\n",
    "        if s >= 1:\n",
    "            temp = (temp * (N + s - 2)) // s\n",
    "        if temp > i:\n",
    "            out.append(S - s)\n",
    "            return soldier_dist(i, N - 1, s, out)\n",
    "        else:\n",
    "            i -= temp\n",
    "soldier_dist(935, 5, 10, [])"
   ]
  },
  {
   "cell_type": "code",
   "execution_count": 12,
   "metadata": {},
   "outputs": [
    {
     "data": {
      "text/plain": [
       "array([[1.11110889e-07, 1.11110889e-07, 1.11110889e-07, 3.48171834e-02,\n",
       "        1.26312789e-03, 3.67686630e-02, 6.28665141e-02, 6.44150516e-02,\n",
       "        6.60123419e-02, 6.60426023e-02, 6.78083621e-02, 3.17786776e-06,\n",
       "        5.89442741e-04, 5.65349499e-06, 6.03349348e-02, 3.47967298e-02,\n",
       "        6.73609070e-02, 4.71866937e-04, 3.96452908e-04, 6.65314602e-02,\n",
       "        3.76265001e-02, 1.11110889e-07, 7.05511935e-04, 6.05559142e-02,\n",
       "        4.98583495e-06, 6.74429012e-02, 9.27328294e-05, 1.98067237e-07,\n",
       "        1.11110889e-07, 1.11110889e-07, 3.72099686e-02, 6.47537665e-02,\n",
       "        6.38669256e-02, 3.72552343e-02, 1.11110889e-07, 1.11110889e-07],\n",
       "       [1.66161284e-07, 5.10478777e-07, 1.66161284e-07, 4.17361625e-02,\n",
       "        3.39016488e-04, 4.32183879e-02, 6.20431167e-02, 6.04593758e-02,\n",
       "        6.44833164e-02, 6.23898508e-02, 6.07110424e-02, 3.54369392e-06,\n",
       "        2.31655253e-04, 4.10054056e-06, 5.85069777e-02, 4.16552170e-02,\n",
       "        6.81200088e-02, 3.14621244e-04, 6.82491460e-05, 6.70547212e-02,\n",
       "        3.86012368e-02, 2.68087226e-07, 3.48527517e-04, 6.42578383e-02,\n",
       "        1.00232073e-05, 6.66562798e-02, 2.45663316e-04, 1.74391720e-07,\n",
       "        5.55554444e-08, 5.55554444e-08, 4.13652791e-02, 5.65480456e-02,\n",
       "        5.81883966e-02, 4.24372732e-02, 5.10478777e-07, 1.66161284e-07]])"
      ]
     },
     "execution_count": 12,
     "metadata": {},
     "output_type": "execute_result"
    }
   ],
   "source": [
    "find_Nash(Blotto(3, 7), iterations=500000)"
   ]
  },
  {
   "cell_type": "code",
   "execution_count": 11,
   "metadata": {},
   "outputs": [
    {
     "data": {
      "text/plain": [
       "array([4, 3, 0])"
      ]
     },
     "execution_count": 11,
     "metadata": {},
     "output_type": "execute_result"
    }
   ],
   "source": [
    "soldier_dist(6, 3, 7, [])"
   ]
  },
  {
   "cell_type": "code",
   "execution_count": 14,
   "metadata": {},
   "outputs": [
    {
     "data": {
      "text/plain": [
       "array([7.29518666e-08, 2.71312253e-06, 1.88248393e-06, 1.11972722e-01,\n",
       "       1.12453883e-01, 1.09024210e-01, 1.08612009e-01, 3.26632392e-06,\n",
       "       3.25896130e-06, 1.11474373e-01, 1.86679395e-06, 1.13200066e-01,\n",
       "       4.16092031e-06, 1.13041564e-01, 2.55820445e-06, 6.84335377e-08,\n",
       "       1.90967112e-06, 1.11473296e-01, 1.08723392e-01, 2.66590711e-06,\n",
       "       5.95237500e-08])"
      ]
     },
     "execution_count": 14,
     "metadata": {},
     "output_type": "execute_result"
    }
   ],
   "source": [
    "e = Evaluation(Blotto(3,5), 1000000, 10)\n",
    "e.average_strategy"
   ]
  },
  {
   "cell_type": "code",
   "execution_count": 18,
   "metadata": {},
   "outputs": [
    {
     "data": {
      "text/plain": [
       "array([0.    , 0.    , 0.    , 0.112 , 0.1125, 0.109 , 0.1086, 0.    ,\n",
       "       0.    , 0.1115, 0.    , 0.1132, 0.    , 0.113 , 0.    , 0.    ,\n",
       "       0.    , 0.1115, 0.1087, 0.    , 0.    ])"
      ]
     },
     "execution_count": 18,
     "metadata": {},
     "output_type": "execute_result"
    }
   ],
   "source": [
    "np.round(e.average_strategy, 4)"
   ]
  },
  {
   "cell_type": "code",
   "execution_count": 17,
   "metadata": {},
   "outputs": [
    {
     "data": {
      "text/plain": [
       "array([[0.    , 0.    , 0.    , 0.0104, 0.0096, 0.011 , 0.0112, 0.    ,\n",
       "        0.    , 0.008 , 0.    , 0.0086, 0.    , 0.0078, 0.    , 0.    ,\n",
       "        0.    , 0.0074, 0.011 , 0.    , 0.    ],\n",
       "       [0.    , 0.    , 0.    , 0.015 , 0.0104, 0.0098, 0.0116, 0.    ,\n",
       "        0.    , 0.0114, 0.    , 0.0056, 0.    , 0.0084, 0.    , 0.    ,\n",
       "        0.    , 0.0076, 0.0116, 0.    , 0.    ]])"
      ]
     },
     "execution_count": 17,
     "metadata": {},
     "output_type": "execute_result"
    }
   ],
   "source": [
    "np.round(e.sds, 4) * 2"
   ]
  },
  {
   "cell_type": "code",
   "execution_count": 11,
   "metadata": {},
   "outputs": [
    {
     "name": "stdout",
     "output_type": "stream",
     "text": [
      "Utility of Agent 0 is -3526\n",
      "[0.    0.    0.    0.109 0.112 0.112 0.112 0.    0.    0.109 0.    0.112\n",
      " 0.    0.112 0.    0.    0.    0.109 0.112 0.    0.   ]\n",
      "Utility of Agent 1 is 3526\n",
      "[0.    0.    0.    0.102 0.12  0.108 0.111 0.    0.    0.108 0.    0.118\n",
      " 0.    0.114 0.    0.    0.    0.104 0.115 0.    0.   ]\n"
     ]
    }
   ],
   "source": [
    "find_Nash(Blotto(3,5), iterations=15000000)"
   ]
  },
  {
   "cell_type": "code",
   "execution_count": 5,
   "metadata": {},
   "outputs": [
    {
     "data": {
      "text/plain": [
       "10"
      ]
     },
     "execution_count": 5,
     "metadata": {},
     "output_type": "execute_result"
    }
   ],
   "source": [
    "N=3\n",
    "S=3\n",
    "comb(N + S -1, N-1)"
   ]
  },
  {
   "cell_type": "code",
   "execution_count": 1,
   "metadata": {},
   "outputs": [],
   "source": [
    "import numpy as np"
   ]
  },
  {
   "cell_type": "code",
   "execution_count": 14,
   "metadata": {},
   "outputs": [
    {
     "data": {
      "text/plain": [
       "array([[[1, 2, 3],\n",
       "        [4, 5, 6]],\n",
       "\n",
       "       [[2, 3, 4],\n",
       "        [6, 7, 8]]])"
      ]
     },
     "execution_count": 14,
     "metadata": {},
     "output_type": "execute_result"
    }
   ],
   "source": [
    "arr =np.array([np.array([np.array([1,2,3]), np.array([4,5,6])]), np.array([np.array([1,2,3]) + 1, np.array([4,5,6]) + 2])] )\n",
    "arr"
   ]
  },
  {
   "cell_type": "code",
   "execution_count": 15,
   "metadata": {},
   "outputs": [
    {
     "data": {
      "text/plain": [
       "array([[0.5, 0.5, 0.5],\n",
       "       [1. , 1. , 1. ]])"
      ]
     },
     "execution_count": 15,
     "metadata": {},
     "output_type": "execute_result"
    }
   ],
   "source": [
    "np.std(arr, axis=0)"
   ]
  },
  {
   "cell_type": "code",
   "execution_count": null,
   "metadata": {},
   "outputs": [],
   "source": []
  }
 ],
 "metadata": {
  "kernelspec": {
   "display_name": "Python 3",
   "language": "python",
   "name": "python3"
  },
  "language_info": {
   "codemirror_mode": {
    "name": "ipython",
    "version": 3
   },
   "file_extension": ".py",
   "mimetype": "text/x-python",
   "name": "python",
   "nbconvert_exporter": "python",
   "pygments_lexer": "ipython3",
   "version": "3.10.1 (tags/v3.10.1:2cd268a, Dec  6 2021, 19:10:37) [MSC v.1929 64 bit (AMD64)]"
  },
  "orig_nbformat": 4,
  "vscode": {
   "interpreter": {
    "hash": "bb7e7e116cf573f9806de94c4b2f308bcfee17df1b0d668c2e26b972481ef263"
   }
  }
 },
 "nbformat": 4,
 "nbformat_minor": 2
}
