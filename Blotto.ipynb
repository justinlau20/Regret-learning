{
 "cells": [
  {
   "attachments": {},
   "cell_type": "markdown",
   "metadata": {},
   "source": [
    "Given N battlefields and S soldiers, the number of possible distributions of soldiers is \n",
    "$${N + S - 1 \\choose N - 1}$$\n",
    "By partitioning on the number of soldiers on the first battlefield and letting $s$ be the number of soldiers in the remaining $N-1$ battlefields, we note\n",
    "$$\n",
    "{N + S - 1 \\choose N - 1} = \\sum_{s = 0}^S {N + s - 2 \\choose N - 2}\n",
    "$$\n",
    "We can hence extract the number of soldiers on the first battlefield. Then we proceed recursively. For example, for $(N, S) = (3,4)$, we have $15$ possibilities. Let $i$ denote the index.\n",
    "\n",
    "\n",
    "If $i < {N - 2 \\choose N - 2} = 1$, we know the first battlefield contains all soldiers.\n",
    "\n",
    "Elif $i < 1 + {N + 1 - 2 \\choose N - 2} = 1 + 2$, we know the first battlefield all but one soldiers.\n",
    "\n",
    "Elif $i < 1 + 2 + {N + 2 - 2 \\choose N - 2} = 1 + 2 + 3$, we know the first battlefield all but two soldiers.\n",
    "\n",
    "etc. Once we know the amount of soldiers in the first battlefield, we call the function on $(N-1, S-s)$.\n",
    "\n",
    "For example, if $i=4$, we see that the first battlefield has 2 solders. We then set $i = i- 3=1$ and run the function on $(2, 2)$ so we know that the second battlefield has 1 soldier.\n",
    "\n",
    "\n",
    "\n"
   ]
  },
  {
   "attachments": {},
   "cell_type": "markdown",
   "metadata": {},
   "source": [
    "Now we find the NE"
   ]
  },
  {
   "cell_type": "code",
   "execution_count": 1,
   "metadata": {},
   "outputs": [],
   "source": [
    "from infrastructure import find_CE\n",
    "from Blotto_infra import *\n",
    "import numpy as np"
   ]
  },
  {
   "cell_type": "code",
   "execution_count": 2,
   "metadata": {},
   "outputs": [
    {
     "name": "stdout",
     "output_type": "stream",
     "text": [
      "Viable strategies for agent 0:\n",
      "\t Probability of playing [3 3 0 0 1] is 0.011.\n",
      "\t Probability of playing [3 2 2 0 0] is 0.015.\n",
      "\t Probability of playing [3 2 0 2 0] is 0.013.\n",
      "\t Probability of playing [3 2 0 0 2] is 0.013.\n",
      "\t Probability of playing [3 1 3 0 0] is 0.01.\n",
      "\t Probability of playing [3 1 0 3 0] is 0.011.\n",
      "\t Probability of playing [3 0 2 2 0] is 0.01.\n",
      "\t Probability of playing [3 0 2 0 2] is 0.01.\n",
      "\t Probability of playing [3 0 0 2 2] is 0.012.\n",
      "\t Probability of playing [2 3 2 0 0] is 0.012.\n",
      "\t Probability of playing [2 3 1 0 1] is 0.01.\n",
      "\t Probability of playing [2 3 0 0 2] is 0.015.\n",
      "\t Probability of playing [2 2 3 0 0] is 0.017.\n",
      "\t Probability of playing [2 2 2 0 1] is 0.017.\n",
      "\t Probability of playing [2 2 1 0 2] is 0.01.\n",
      "\t Probability of playing [2 2 0 3 0] is 0.016.\n",
      "\t Probability of playing [2 2 0 0 3] is 0.012.\n",
      "\t Probability of playing [2 1 2 2 0] is 0.01.\n",
      "\t Probability of playing [2 0 3 0 2] is 0.012.\n",
      "\t Probability of playing [2 0 2 1 2] is 0.01.\n",
      "\t Probability of playing [2 0 1 2 2] is 0.01.\n",
      "\t Probability of playing [2 0 0 2 3] is 0.014.\n",
      "\t Probability of playing [1 1 0 2 3] is 0.01.\n",
      "\t Probability of playing [1 0 2 2 2] is 0.013.\n",
      "\t Probability of playing [1 0 1 2 3] is 0.011.\n",
      "\t Probability of playing [0 3 2 2 0] is 0.013.\n",
      "\t Probability of playing [0 3 2 0 2] is 0.013.\n",
      "\t Probability of playing [0 3 0 2 2] is 0.017.\n",
      "\t Probability of playing [0 2 3 2 0] is 0.012.\n",
      "\t Probability of playing [0 2 2 3 0] is 0.012.\n",
      "\t Probability of playing [0 2 0 2 3] is 0.014.\n",
      "\t Probability of playing [0 0 3 2 2] is 0.016.\n",
      "\t Probability of playing [0 0 2 2 3] is 0.019.\n",
      "\n",
      "\n",
      "\n",
      "\n",
      "Viable strategies for agent 1:\n",
      "\t Probability of playing [3 2 2 0 0] is 0.012.\n",
      "\t Probability of playing [3 2 0 2 0] is 0.011.\n",
      "\t Probability of playing [3 2 0 0 2] is 0.013.\n",
      "\t Probability of playing [3 0 2 2 0] is 0.011.\n",
      "\t Probability of playing [3 0 2 0 2] is 0.012.\n",
      "\t Probability of playing [3 0 0 2 2] is 0.012.\n",
      "\t Probability of playing [2 3 2 0 0] is 0.011.\n",
      "\t Probability of playing [2 3 0 2 0] is 0.01.\n",
      "\t Probability of playing [2 3 0 0 2] is 0.011.\n",
      "\t Probability of playing [2 2 3 0 0] is 0.011.\n",
      "\t Probability of playing [2 2 1 2 0] is 0.01.\n",
      "\t Probability of playing [2 2 0 3 0] is 0.013.\n",
      "\t Probability of playing [2 2 0 0 3] is 0.01.\n",
      "\t Probability of playing [2 1 2 2 0] is 0.011.\n",
      "\t Probability of playing [2 0 3 2 0] is 0.012.\n",
      "\t Probability of playing [2 0 3 0 2] is 0.011.\n",
      "\t Probability of playing [2 0 2 3 0] is 0.014.\n",
      "\t Probability of playing [2 0 2 0 3] is 0.011.\n",
      "\t Probability of playing [2 0 0 3 2] is 0.011.\n",
      "\t Probability of playing [2 0 0 2 3] is 0.012.\n",
      "\t Probability of playing [1 0 2 2 2] is 0.01.\n",
      "\t Probability of playing [0 3 2 0 2] is 0.012.\n",
      "\t Probability of playing [0 3 0 2 2] is 0.012.\n",
      "\t Probability of playing [0 2 3 0 2] is 0.012.\n",
      "\t Probability of playing [0 2 2 3 0] is 0.012.\n",
      "\t Probability of playing [0 2 2 1 2] is 0.01.\n",
      "\t Probability of playing [0 2 2 0 3] is 0.01.\n",
      "\t Probability of playing [0 2 0 3 2] is 0.011.\n",
      "\t Probability of playing [0 2 0 2 3] is 0.01.\n",
      "\t Probability of playing [0 0 3 2 2] is 0.014.\n",
      "\t Probability of playing [0 0 2 3 2] is 0.012.\n",
      "\t Probability of playing [0 0 2 2 3] is 0.012.\n",
      "\n",
      "\n",
      "\n",
      "\n"
     ]
    }
   ],
   "source": [
    "Single_Evaluation(Blotto(5, (7, 7)), 15000).viable_strategies(eps=0.01)"
   ]
  },
  {
   "cell_type": "code",
   "execution_count": 4,
   "metadata": {},
   "outputs": [
    {
     "name": "stdout",
     "output_type": "stream",
     "text": [
      "Viable strategies for agent 0:\n",
      "\t Probability of playing [0 0 1 3 3] is 0.475.\n",
      "\t Probability of playing [0 0 2 2 3] is 0.153.\n",
      "\t Probability of playing [0 1 2 2 2] is 0.252.\n",
      "\t Probability of playing [1 1 1 1 3] is 0.055.\n",
      "\t Probability of playing [1 1 1 2 2] is 0.06.\n",
      "\n",
      "\n",
      "\n",
      "\n",
      "Viable strategies for agent 1:\n",
      "\t Probability of playing [0 0 1 3 3] is 0.213.\n",
      "\t Probability of playing [0 0 2 2 3] is 0.399.\n",
      "\t Probability of playing [0 1 1 2 3] is 0.072.\n",
      "\t Probability of playing [0 1 2 2 2] is 0.035.\n",
      "\t Probability of playing [1 1 1 1 3] is 0.081.\n",
      "\t Probability of playing [1 1 1 2 2] is 0.198.\n",
      "\n",
      "\n",
      "\n",
      "\n"
     ]
    }
   ],
   "source": [
    "Single_Evaluation(Collapsed_Blotto(5, (7, 7)), 300000).viable_strategies(eps=0.02)"
   ]
  },
  {
   "cell_type": "code",
   "execution_count": null,
   "metadata": {},
   "outputs": [],
   "source": [
    "import numpy as np"
   ]
  },
  {
   "cell_type": "code",
   "execution_count": null,
   "metadata": {},
   "outputs": [
    {
     "data": {
      "text/plain": [
       "array([[[1, 2, 3],\n",
       "        [4, 5, 6]],\n",
       "\n",
       "       [[2, 3, 4],\n",
       "        [6, 7, 8]]])"
      ]
     },
     "execution_count": 14,
     "metadata": {},
     "output_type": "execute_result"
    }
   ],
   "source": [
    "arr =np.array([np.array([np.array([1,2,3]), np.array([4,5,6])]), np.array([np.array([1,2,3]) + 1, np.array([4,5,6]) + 2])] )\n",
    "arr"
   ]
  },
  {
   "cell_type": "code",
   "execution_count": null,
   "metadata": {},
   "outputs": [
    {
     "data": {
      "text/plain": [
       "array([[0.5, 0.5, 0.5],\n",
       "       [1. , 1. , 1. ]])"
      ]
     },
     "execution_count": 15,
     "metadata": {},
     "output_type": "execute_result"
    }
   ],
   "source": [
    "np.std(arr, axis=0)"
   ]
  },
  {
   "attachments": {},
   "cell_type": "markdown",
   "metadata": {},
   "source": [
    "We can collapse the number of strategies by arguing that to an agent, the order of the battlefields do not matter. Hence, letting the total number of partitions of $S$ soldiers into $N$  battlefields be $P_N(S)$, we have\n",
    "$$\n",
    "P_N(S) = P_{N-1}(S) + P_{N-1}(S-N) + P_{N-1}(S-2) +...\n",
    "$$\n",
    "where $P_n(0)=1$ and $P_n(M)=0$ for $M<0$\n"
   ]
  },
  {
   "cell_type": "code",
   "execution_count": 2,
   "metadata": {},
   "outputs": [
    {
     "name": "stdout",
     "output_type": "stream",
     "text": [
      "[1. 1. 1. 1. 1. 1.] [0 0 0 0 0 1] inputs\n",
      "[1. 1. 1. 1. 1. 1.]\n",
      "[0. 1. 0. 1. 0. 1.] [1. 1. 1. 1. 1. 1.] inputs\n",
      "[1. 1. 2. 2. 3. 3. 2. 2. 1. 1.]\n",
      "[0. 0. 1. 0. 0. 1.] [3. 3. 2. 2. 1. 1.] inputs\n",
      "[3. 3. 2. 5. 4. 3. 2. 1. 1.]\n"
     ]
    },
    {
     "data": {
      "text/plain": [
       "array([[1., 0., 0., 0., 0., 0.],\n",
       "       [1., 1., 1., 1., 1., 1.],\n",
       "       [1., 1., 2., 2., 3., 3.],\n",
       "       [1., 1., 2., 3., 4., 5.]])"
      ]
     },
     "execution_count": 2,
     "metadata": {},
     "output_type": "execute_result"
    }
   ],
   "source": [
    "partition_matrix(3, 5)"
   ]
  },
  {
   "cell_type": "code",
   "execution_count": 10,
   "metadata": {},
   "outputs": [
    {
     "ename": "Exception",
     "evalue": "You are bad at coding >:(",
     "output_type": "error",
     "traceback": [
      "\u001b[1;31m---------------------------------------------------------------------------\u001b[0m",
      "\u001b[1;31mException\u001b[0m                                 Traceback (most recent call last)",
      "Cell \u001b[1;32mIn[10], line 3\u001b[0m\n\u001b[0;32m      1\u001b[0m N \u001b[39m=\u001b[39m \u001b[39m3\u001b[39m\n\u001b[0;32m      2\u001b[0m S \u001b[39m=\u001b[39m \u001b[39m5\u001b[39m\n\u001b[1;32m----> 3\u001b[0m soldier_dist_collapsed(\u001b[39m5\u001b[39;49m, N, S, partition_matrix(N, S), out \u001b[39m=\u001b[39;49m[])\n",
      "File \u001b[1;32mc:\\Users\\Prog\\Documents\\Regret-learning\\Blotto_infra.py:64\u001b[0m, in \u001b[0;36msoldier_dist_collapsed\u001b[1;34m(i, N, S, lookup_mat, out, base)\u001b[0m\n\u001b[0;32m     62\u001b[0m     base \u001b[39m+\u001b[39m\u001b[39m=\u001b[39m s\n\u001b[0;32m     63\u001b[0m     out\u001b[39m.\u001b[39mappend(base)\n\u001b[1;32m---> 64\u001b[0m     \u001b[39mreturn\u001b[39;00m soldier_dist_collapsed(i, N \u001b[39m-\u001b[39;49m \u001b[39m1\u001b[39;49m, S \u001b[39m-\u001b[39;49m s \u001b[39m*\u001b[39;49m N, lookup_mat, out, base)\n\u001b[0;32m     65\u001b[0m \u001b[39melse\u001b[39;00m:\n\u001b[0;32m     66\u001b[0m     i \u001b[39m-\u001b[39m\u001b[39m=\u001b[39m temp\n",
      "File \u001b[1;32mc:\\Users\\Prog\\Documents\\Regret-learning\\Blotto_infra.py:67\u001b[0m, in \u001b[0;36msoldier_dist_collapsed\u001b[1;34m(i, N, S, lookup_mat, out, base)\u001b[0m\n\u001b[0;32m     65\u001b[0m     \u001b[39melse\u001b[39;00m:\n\u001b[0;32m     66\u001b[0m         i \u001b[39m-\u001b[39m\u001b[39m=\u001b[39m temp\n\u001b[1;32m---> 67\u001b[0m \u001b[39mraise\u001b[39;00m \u001b[39mException\u001b[39;00m(\u001b[39m\"\u001b[39m\u001b[39mYou are bad at coding >:(\u001b[39m\u001b[39m\"\u001b[39m)\n",
      "\u001b[1;31mException\u001b[0m: You are bad at coding >:("
     ]
    }
   ],
   "source": [
    "N = 3\n",
    "S = 5\n",
    "soldier_dist_collapsed(5, N, S, partition_matrix(N, S), out =[])"
   ]
  },
  {
   "cell_type": "code",
   "execution_count": 2,
   "metadata": {},
   "outputs": [
    {
     "data": {
      "text/plain": [
       "array([[1., 0., 0., 0.],\n",
       "       [1., 1., 1., 1.],\n",
       "       [0., 1., 1., 2.]])"
      ]
     },
     "execution_count": 2,
     "metadata": {},
     "output_type": "execute_result"
    }
   ],
   "source": [
    "partition_matrix(2, 3)"
   ]
  },
  {
   "cell_type": "code",
   "execution_count": null,
   "metadata": {},
   "outputs": [],
   "source": []
  }
 ],
 "metadata": {
  "kernelspec": {
   "display_name": "Python 3",
   "language": "python",
   "name": "python3"
  },
  "language_info": {
   "codemirror_mode": {
    "name": "ipython",
    "version": 3
   },
   "file_extension": ".py",
   "mimetype": "text/x-python",
   "name": "python",
   "nbconvert_exporter": "python",
   "pygments_lexer": "ipython3",
   "version": "3.10.1"
  },
  "orig_nbformat": 4,
  "vscode": {
   "interpreter": {
    "hash": "bb7e7e116cf573f9806de94c4b2f308bcfee17df1b0d668c2e26b972481ef263"
   }
  }
 },
 "nbformat": 4,
 "nbformat_minor": 2
}
