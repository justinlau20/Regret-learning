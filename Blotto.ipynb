{
 "cells": [
  {
   "attachments": {},
   "cell_type": "markdown",
   "metadata": {},
   "source": [
    "Given N battlefields and S soldiers, the number of possible distributions of soldiers is \n",
    "$${N + S - 1 \\choose N - 1}$$\n",
    "By partitioning on the number of soldiers on the first battlefield and letting $s$ be the number of soldiers in the remaining $N-1$ battlefields, we note\n",
    "$$\n",
    "{N + S - 1 \\choose N - 1} = \\sum_{s = 0}^S {N + s - 2 \\choose N - 2}\n",
    "$$\n",
    "We can hence extract the number of soldiers on the first battlefield. Then we proceed recursively. For example, for $(N, S) = (3,4)$, we have $15$ possibilities. Let $i$ denote the index.\n",
    "\n",
    "\n",
    "If $i < {N - 2 \\choose N - 2} = 1$, we know the first battlefield contains all soldiers.\n",
    "\n",
    "Elif $i < 1 + {N + 1 - 2 \\choose N - 2} = 1 + 2$, we know the first battlefield all but one soldiers.\n",
    "\n",
    "Elif $i < 1 + 2 + {N + 2 - 2 \\choose N - 2} = 1 + 2 + 3$, we know the first battlefield all but two soldiers.\n",
    "\n",
    "etc. Once we know the amount of soldiers in the first battlefield, we call the function on $(N-1, S-s)$.\n",
    "\n",
    "For example, if $i=4$, we see that the first battlefield has 2 solders. We then set $i = i- 3=1$ and run the function on $(2, 2)$ so we know that the second battlefield has 1 soldier.\n",
    "\n",
    "\n",
    "\n"
   ]
  },
  {
   "attachments": {},
   "cell_type": "markdown",
   "metadata": {},
   "source": [
    "Now we find the NE"
   ]
  },
  {
   "cell_type": "code",
   "execution_count": 1,
   "metadata": {},
   "outputs": [],
   "source": [
    "from infrastructure import find_CE\n",
    "from Blotto_infra import *\n",
    "import  numpy as np"
   ]
  },
  {
   "cell_type": "code",
   "execution_count": 2,
   "metadata": {},
   "outputs": [
    {
     "data": {
      "text/plain": [
       "array([ 0,  0, 10,  0,  0])"
      ]
     },
     "execution_count": 2,
     "metadata": {},
     "output_type": "execute_result"
    }
   ],
   "source": [
    "def soldier_dist(i, N, S, out):\n",
    "    if S == 0:\n",
    "        out += [0] * N\n",
    "        return np.array(out)\n",
    "    if N == 1:\n",
    "        out.append(S)\n",
    "        return np.array(out)\n",
    "\n",
    "    temp = 1\n",
    "    for s in range(S + 1):\n",
    "        if s >= 1:\n",
    "            temp = (temp * (N + s - 2)) // s\n",
    "        if temp > i:\n",
    "            out.append(S - s)\n",
    "            return soldier_dist(i, N - 1, s, out)\n",
    "        else:\n",
    "            i -= temp\n",
    "soldier_dist(935, 5, 10, [])"
   ]
  },
  {
   "cell_type": "code",
   "execution_count": 5,
   "metadata": {},
   "outputs": [
    {
     "name": "stdout",
     "output_type": "stream",
     "text": [
      "Viable strategies for agent 0:\n",
      "\t Probability of playing [5 2 0] is 0.024.\n",
      "\t Probability of playing [5 0 2] is 0.017.\n",
      "\t Probability of playing [4 3 0] is 0.061.\n",
      "\t Probability of playing [4 2 1] is 0.062.\n",
      "\t Probability of playing [4 1 2] is 0.077.\n",
      "\t Probability of playing [4 0 3] is 0.076.\n",
      "\t Probability of playing [3 4 0] is 0.062.\n",
      "\t Probability of playing [3 0 4] is 0.062.\n",
      "\t Probability of playing [2 5 0] is 0.025.\n",
      "\t Probability of playing [2 4 1] is 0.089.\n",
      "\t Probability of playing [2 1 4] is 0.077.\n",
      "\t Probability of playing [2 0 5] is 0.013.\n",
      "\t Probability of playing [1 4 2] is 0.078.\n",
      "\t Probability of playing [1 2 4] is 0.088.\n",
      "\t Probability of playing [0 5 2] is 0.021.\n",
      "\t Probability of playing [0 4 3] is 0.053.\n",
      "\t Probability of playing [0 3 4] is 0.069.\n",
      "\t Probability of playing [0 2 5] is 0.029.\n",
      "\n",
      "\n",
      "\n",
      "\n",
      "Viable strategies for agent 1:\n",
      "\t Probability of playing [5 2 0] is 0.033.\n",
      "\t Probability of playing [5 0 2] is 0.021.\n",
      "\t Probability of playing [4 3 0] is 0.068.\n",
      "\t Probability of playing [4 2 1] is 0.061.\n",
      "\t Probability of playing [4 1 2] is 0.075.\n",
      "\t Probability of playing [4 0 3] is 0.075.\n",
      "\t Probability of playing [3 4 0] is 0.057.\n",
      "\t Probability of playing [3 0 4] is 0.067.\n",
      "\t Probability of playing [2 5 0] is 0.028.\n",
      "\t Probability of playing [2 4 1] is 0.08.\n",
      "\t Probability of playing [2 1 4] is 0.074.\n",
      "\t Probability of playing [2 0 5] is 0.013.\n",
      "\t Probability of playing [1 4 2] is 0.079.\n",
      "\t Probability of playing [1 2 4] is 0.07.\n",
      "\t Probability of playing [0 5 2] is 0.024.\n",
      "\t Probability of playing [0 4 3] is 0.058.\n",
      "\t Probability of playing [0 3 4] is 0.066.\n",
      "\t Probability of playing [0 2 5] is 0.038.\n",
      "\n",
      "\n",
      "\n",
      "\n"
     ]
    }
   ],
   "source": [
    "Single_Evaluation(Blotto(3, (7, 7)), 10000).viable_strategies(eps=0.01)"
   ]
  },
  {
   "cell_type": "code",
   "execution_count": 5,
   "metadata": {},
   "outputs": [
    {
     "data": {
      "text/plain": [
       "[<infrastructure.Regret_Minimisation_Agent at 0x2a5b4a0bf10>,\n",
       " <infrastructure.Regret_Minimisation_Agent at 0x2a5b4a0ada0>]"
      ]
     },
     "execution_count": 5,
     "metadata": {},
     "output_type": "execute_result"
    }
   ],
   "source": [
    "find_CE(Blotto(3, (7, 7)), iterations=10000)"
   ]
  },
  {
   "cell_type": "code",
   "execution_count": 4,
   "metadata": {},
   "outputs": [
    {
     "data": {
      "text/plain": [
       "array([4, 3, 0])"
      ]
     },
     "execution_count": 4,
     "metadata": {},
     "output_type": "execute_result"
    }
   ],
   "source": [
    "soldier_dist(6, 3, 7, [])"
   ]
  },
  {
   "cell_type": "code",
   "execution_count": null,
   "metadata": {},
   "outputs": [],
   "source": [
    "import numpy as np"
   ]
  },
  {
   "cell_type": "code",
   "execution_count": null,
   "metadata": {},
   "outputs": [
    {
     "data": {
      "text/plain": [
       "array([[[1, 2, 3],\n",
       "        [4, 5, 6]],\n",
       "\n",
       "       [[2, 3, 4],\n",
       "        [6, 7, 8]]])"
      ]
     },
     "execution_count": 14,
     "metadata": {},
     "output_type": "execute_result"
    }
   ],
   "source": [
    "arr =np.array([np.array([np.array([1,2,3]), np.array([4,5,6])]), np.array([np.array([1,2,3]) + 1, np.array([4,5,6]) + 2])] )\n",
    "arr"
   ]
  },
  {
   "cell_type": "code",
   "execution_count": null,
   "metadata": {},
   "outputs": [
    {
     "data": {
      "text/plain": [
       "array([[0.5, 0.5, 0.5],\n",
       "       [1. , 1. , 1. ]])"
      ]
     },
     "execution_count": 15,
     "metadata": {},
     "output_type": "execute_result"
    }
   ],
   "source": [
    "np.std(arr, axis=0)"
   ]
  },
  {
   "attachments": {},
   "cell_type": "markdown",
   "metadata": {},
   "source": [
    "We can collapse the number of strategies by arguing that to an agent, the order of the battlefields do not matter. Hence, letting the total number of partitions of $S$ soldiers into $N$  battlefields be $P_N(S)$, we have\n",
    "$$\n",
    "P_N(S) = P_{N-1}(S) + P_{N-1}(S-N) + P_{N-1}(S-2) +...\n",
    "$$\n",
    "where $P_n(0)=1$ and $P_n(M)=0$ for $M<0$\n"
   ]
  },
  {
   "cell_type": "code",
   "execution_count": 25,
   "metadata": {},
   "outputs": [
    {
     "data": {
      "text/plain": [
       "array([[1., 0., 0., 0., 0., 0., 0., 0., 0., 0., 0.],\n",
       "       [1., 1., 1., 1., 1., 1., 1., 1., 1., 1., 1.],\n",
       "       [1., 1., 2., 2., 3., 3., 4., 4., 5., 5., 6.]])"
      ]
     },
     "execution_count": 25,
     "metadata": {},
     "output_type": "execute_result"
    }
   ],
   "source": [
    "def partition_matrix(k, s):\n",
    "    \"\"\"\n",
    "\n",
    "    K: Maxmimal number of partitions\n",
    "    S: Number to be partitioned\n",
    "\n",
    "    Output:\n",
    "        Returns a (K+1) by (S+1) matrix whose i,j th entry is the number of ways to partition the number j\n",
    "        into the sum of i non-negative numbers where the order does not matter \n",
    "    \"\"\"\n",
    "    out = np.array([np.array([1] + [0] * s)])\n",
    "    for i in range(1, k + 1):\n",
    "        mul = np.ones(s + 1)\n",
    "        for j in range(len(mul)):\n",
    "            if j % i != 0:\n",
    "                mul[j] = 0\n",
    "        row = np.polymul(mul, np.flip(out[-1, :]))[- s - 1:]\n",
    "        out = np.r_[out, [np.flip(row)]]\n",
    "    return out\n",
    "partition_matrix(2, 10)"
   ]
  },
  {
   "cell_type": "code",
   "execution_count": null,
   "metadata": {},
   "outputs": [],
   "source": []
  }
 ],
 "metadata": {
  "kernelspec": {
   "display_name": "Python 3",
   "language": "python",
   "name": "python3"
  },
  "language_info": {
   "codemirror_mode": {
    "name": "ipython",
    "version": 3
   },
   "file_extension": ".py",
   "mimetype": "text/x-python",
   "name": "python",
   "nbconvert_exporter": "python",
   "pygments_lexer": "ipython3",
   "version": "3.10.1"
  },
  "orig_nbformat": 4,
  "vscode": {
   "interpreter": {
    "hash": "bb7e7e116cf573f9806de94c4b2f308bcfee17df1b0d668c2e26b972481ef263"
   }
  }
 },
 "nbformat": 4,
 "nbformat_minor": 2
}
