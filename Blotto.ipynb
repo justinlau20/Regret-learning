{
 "cells": [
  {
   "attachments": {},
   "cell_type": "markdown",
   "metadata": {},
   "source": [
    "Given N battlefields and S soldiers, the number of possible distributions of soldiers is \n",
    "$${N + S - 1 \\choose N - 1}$$\n",
    "By partitioning on the number of soldiers on the first battlefield and letting $s$ be the number of soldiers in the remaining $N-1$ battlefields, we note\n",
    "$$\n",
    "{N + S - 1 \\choose N - 1} = \\sum_{s = 0}^S {N + s - 2 \\choose N - 2}\n",
    "$$\n",
    "We can hence extract the number of soldiers on the first battlefield. Then we proceed recursively. For example, for $(N, S) = (3,4)$, we have $15$ possibilities. Let $i$ denote the index.\n",
    "\n",
    "\n",
    "If $i < {N - 2 \\choose N - 2} = 1$, we know the first battlefield contains all soldiers.\n",
    "\n",
    "Elif $i < 1 + {N + 1 - 2 \\choose N - 2} = 1 + 2$, we know the first battlefield all but one soldiers.\n",
    "\n",
    "Elif $i < 1 + 2 + {N + 2 - 2 \\choose N - 2} = 1 + 2 + 3$, we know the first battlefield all but two soldiers.\n",
    "\n",
    "etc. Once we know the amount of soldiers in the first battlefield, we call the function on $(N-1, S-s)$.\n",
    "\n",
    "For example, if $i=4$, we see that the first battlefield has 2 solders. We then set $i = i- 3=1$ and run the function on $(2, 2)$ so we know that the second battlefield has 1 soldier.\n",
    "\n",
    "\n",
    "\n"
   ]
  },
  {
   "attachments": {},
   "cell_type": "markdown",
   "metadata": {},
   "source": [
    "Now we find the NE"
   ]
  },
  {
   "cell_type": "code",
   "execution_count": 1,
   "metadata": {},
   "outputs": [],
   "source": [
    "from infrastructure import find_CE\n",
    "from Blotto_infra import *\n",
    "import numpy as np"
   ]
  },
  {
   "attachments": {},
   "cell_type": "markdown",
   "metadata": {},
   "source": [
    "Collapsed Blotto"
   ]
  },
  {
   "cell_type": "code",
   "execution_count": null,
   "metadata": {},
   "outputs": [],
   "source": []
  },
  {
   "cell_type": "code",
   "execution_count": 299,
   "metadata": {},
   "outputs": [],
   "source": [
    "g = Collapsed_Blotto(3, (3, 3))\n",
    "SE = Single_Evaluation(g, 10000, agent=Regret_Minimisation_Agent)"
   ]
  },
  {
   "cell_type": "code",
   "execution_count": 300,
   "metadata": {},
   "outputs": [
    {
     "name": "stdout",
     "output_type": "stream",
     "text": [
      "Viable strategies for agent 0:\n",
      "\t Probability of playing [0 1 2] (with index 1) is 0.375.\n",
      "\t Probability of playing [1 1 1] (with index 2) is 0.625.\n",
      "\n",
      "\n",
      "\n",
      "\n",
      "Viable strategies for agent 1:\n",
      "\t Probability of playing [1 1 1] (with index 2) is 1.0.\n",
      "\n",
      "\n",
      "\n",
      "\n"
     ]
    }
   ],
   "source": [
    "SE.viable_strategies()"
   ]
  },
  {
   "cell_type": "code",
   "execution_count": 271,
   "metadata": {},
   "outputs": [],
   "source": [
    "strat = SE.get_strategies()[-1]\n"
   ]
  },
  {
   "cell_type": "code",
   "execution_count": 272,
   "metadata": {},
   "outputs": [
    {
     "data": {
      "text/plain": [
       "3.333333333333333e-05"
      ]
     },
     "execution_count": 272,
     "metadata": {},
     "output_type": "execute_result"
    }
   ],
   "source": [
    "evaluate(Agent(g, 0 ,strat))"
   ]
  },
  {
   "attachments": {},
   "cell_type": "markdown",
   "metadata": {},
   "source": [
    "Normal Blotto"
   ]
  },
  {
   "cell_type": "code",
   "execution_count": 214,
   "metadata": {},
   "outputs": [],
   "source": [
    "g2 = Blotto(3, (5, 5))\n",
    "SE = Single_Evaluation(g2, 50000, agent=Regret_Minimisation_Agent)"
   ]
  },
  {
   "cell_type": "code",
   "execution_count": 215,
   "metadata": {},
   "outputs": [
    {
     "name": "stdout",
     "output_type": "stream",
     "text": [
      "Viable strategies for agent 0:\n",
      "\t Probability of playing [3 2 0] (with index 3) is 0.13.\n",
      "\t Probability of playing [3 1 1] (with index 4) is 0.1.\n",
      "\t Probability of playing [3 0 2] (with index 5) is 0.105.\n",
      "\t Probability of playing [2 3 0] (with index 6) is 0.1.\n",
      "\t Probability of playing [2 0 3] (with index 9) is 0.122.\n",
      "\t Probability of playing [1 3 1] (with index 11) is 0.108.\n",
      "\t Probability of playing [1 1 3] (with index 13) is 0.114.\n",
      "\t Probability of playing [0 3 2] (with index 17) is 0.128.\n",
      "\t Probability of playing [0 2 3] (with index 18) is 0.093.\n",
      "\n",
      "\n",
      "\n",
      "\n",
      "Viable strategies for agent 1:\n",
      "\t Probability of playing [3 2 0] (with index 3) is 0.133.\n",
      "\t Probability of playing [3 1 1] (with index 4) is 0.113.\n",
      "\t Probability of playing [3 0 2] (with index 5) is 0.083.\n",
      "\t Probability of playing [2 3 0] (with index 6) is 0.096.\n",
      "\t Probability of playing [2 0 3] (with index 9) is 0.126.\n",
      "\t Probability of playing [1 3 1] (with index 11) is 0.102.\n",
      "\t Probability of playing [1 1 3] (with index 13) is 0.117.\n",
      "\t Probability of playing [0 3 2] (with index 17) is 0.148.\n",
      "\t Probability of playing [0 2 3] (with index 18) is 0.081.\n",
      "\n",
      "\n",
      "\n",
      "\n"
     ]
    }
   ],
   "source": [
    "SE.viable_strategies()"
   ]
  },
  {
   "cell_type": "code",
   "execution_count": 216,
   "metadata": {},
   "outputs": [],
   "source": [
    "strat2 = SE.get_strategies()[1]\n"
   ]
  },
  {
   "cell_type": "code",
   "execution_count": 247,
   "metadata": {},
   "outputs": [
    {
     "data": {
      "text/plain": [
       "0.00644"
      ]
     },
     "execution_count": 247,
     "metadata": {},
     "output_type": "execute_result"
    }
   ],
   "source": [
    "faceoff(Surrogate_Blotto_Agent(g, g2, 0, strat), Agent(g2, 1, strat2), round=50000, mat=False)"
   ]
  },
  {
   "cell_type": "code",
   "execution_count": 86,
   "metadata": {},
   "outputs": [],
   "source": [
    "g = Collapsed_Blotto(3, (4, 4))\n",
    "prior = np.array([0.1, 0.3 ,0.3, 0.3])\n",
    "SE = Single_Evaluation(g, 300, agent=Regret_Minimisation_Agent, priors=[np.array([0.1, 0.3 ,0.3, 0.3]), np.array([0.1, 0.3 ,0.3, 0.3])])"
   ]
  },
  {
   "cell_type": "code",
   "execution_count": 87,
   "metadata": {},
   "outputs": [
    {
     "name": "stdout",
     "output_type": "stream",
     "text": [
      "Viable strategies for agent 0:\n",
      "\t Probability of playing [0 1 3] (with index 1) is 0.001.\n",
      "\t Probability of playing [0 2 2] (with index 2) is 0.975.\n",
      "\t Probability of playing [1 1 2] (with index 3) is 0.024.\n",
      "\n",
      "\n",
      "\n",
      "\n",
      "Viable strategies for agent 1:\n",
      "\t Probability of playing [0 0 4] (with index 0) is 0.001.\n",
      "\t Probability of playing [0 1 3] (with index 1) is 0.003.\n",
      "\t Probability of playing [0 2 2] (with index 2) is 0.99.\n",
      "\t Probability of playing [1 1 2] (with index 3) is 0.006.\n",
      "\n",
      "\n",
      "\n",
      "\n"
     ]
    }
   ],
   "source": [
    "SE.viable_strategies()"
   ]
  },
  {
   "cell_type": "code",
   "execution_count": 88,
   "metadata": {},
   "outputs": [],
   "source": [
    "strat = SE.get_strategies()[0]"
   ]
  },
  {
   "cell_type": "code",
   "execution_count": 148,
   "metadata": {},
   "outputs": [
    {
     "data": {
      "text/plain": [
       "0"
      ]
     },
     "execution_count": 148,
     "metadata": {},
     "output_type": "execute_result"
    }
   ],
   "source": [
    "evaluate(Agent(g, 0 ,np.array([0,0.123,877])))"
   ]
  },
  {
   "cell_type": "code",
   "execution_count": 145,
   "metadata": {},
   "outputs": [
    {
     "name": "stdout",
     "output_type": "stream",
     "text": [
      "Viable strategies for agent 0:\n",
      "\t Probability of playing [1 1 1] (with index 2) is 1.0.\n",
      "\n",
      "\n",
      "\n",
      "\n",
      "Viable strategies for agent 1:\n",
      "\t Probability of playing [0 0 3] (with index 0) is 0.001.\n",
      "\t Probability of playing [0 1 2] (with index 1) is 0.999.\n",
      "\n",
      "\n",
      "\n",
      "\n"
     ]
    }
   ],
   "source": [
    "g = Collapsed_Blotto(3, (3, 3))\n",
    "SE = Single_Evaluation(g, 5000, agent=Swap_Regret_Agent, \n",
    "save_hist=True, priors=[np.array([0, 0., 1]), np.array([0.6, 0.2, 0.2])])\n",
    "SE.viable_strategies()"
   ]
  },
  {
   "cell_type": "code",
   "execution_count": 56,
   "metadata": {},
   "outputs": [
    {
     "data": {
      "text/plain": [
       "array([0.        , 0.08333333, 0.11111111, 0.20833333, 0.16666667,\n",
       "       0.13888889, 0.11904762, 0.10416667, 0.09259259, 0.08333333])"
      ]
     },
     "execution_count": 56,
     "metadata": {},
     "output_type": "execute_result"
    }
   ],
   "source": [
    "SE.agents[0].strategy_sums[1][:10]"
   ]
  },
  {
   "cell_type": "code",
   "execution_count": 436,
   "metadata": {},
   "outputs": [
    {
     "data": {
      "text/plain": [
       "array([0.8       , 0.65      , 0.6       , 0.575     , 0.56      ,\n",
       "       0.55      , 0.54285714, 0.5375    , 0.53333333, 0.53      ])"
      ]
     },
     "execution_count": 436,
     "metadata": {},
     "output_type": "execute_result"
    }
   ],
   "source": [
    "SE.agents[0].strategy_sums[2][:10]"
   ]
  },
  {
   "cell_type": "code",
   "execution_count": 438,
   "metadata": {},
   "outputs": [
    {
     "data": {
      "text/plain": [
       "array([0.8       , 0.4       , 0.26666667, 0.2       , 0.16      ,\n",
       "       0.13333333, 0.11428571, 0.1       , 0.08888889, 0.08      ])"
      ]
     },
     "execution_count": 438,
     "metadata": {},
     "output_type": "execute_result"
    }
   ],
   "source": [
    "SE.agents[1].strategy_sums[1][:10]"
   ]
  },
  {
   "cell_type": "code",
   "execution_count": 437,
   "metadata": {},
   "outputs": [
    {
     "data": {
      "text/plain": [
       "array([0.1       , 0.55      , 0.7       , 0.775     , 0.82      ,\n",
       "       0.85      , 0.87142857, 0.8875    , 0.9       , 0.91      ])"
      ]
     },
     "execution_count": 437,
     "metadata": {},
     "output_type": "execute_result"
    }
   ],
   "source": [
    "SE.agents[1].strategy_sums[2][:10]"
   ]
  },
  {
   "cell_type": "code",
   "execution_count": 386,
   "metadata": {},
   "outputs": [
    {
     "data": {
      "text/plain": [
       "0.0"
      ]
     },
     "execution_count": 386,
     "metadata": {},
     "output_type": "execute_result"
    }
   ],
   "source": [
    "faceoff(Agent(g, 0, np.array([0, 1/2, 1/2])), Agent(g, 1, np.array([0, 0.2, 0.8])))"
   ]
  },
  {
   "cell_type": "code",
   "execution_count": 360,
   "metadata": {},
   "outputs": [
    {
     "data": {
      "text/plain": [
       "0"
      ]
     },
     "execution_count": 360,
     "metadata": {},
     "output_type": "execute_result"
    }
   ],
   "source": [
    "strat = np.array([0, 1, 0])\n",
    "\n",
    "evaluate(Agent(g, 0 ,strat))"
   ]
  },
  {
   "cell_type": "code",
   "execution_count": 103,
   "metadata": {},
   "outputs": [],
   "source": [
    "temp_SE = Single_Evaluation(g, 100, agent=Regret_Minimisation_Agent, save_hist=True, priors=[np.array([0, 0., 1]), np.array([0.99, 0.008, 0.002])])"
   ]
  },
  {
   "cell_type": "code",
   "execution_count": 104,
   "metadata": {},
   "outputs": [
    {
     "name": "stdout",
     "output_type": "stream",
     "text": [
      "Viable strategies for agent 0:\n",
      "\t Probability of playing [0 0 3] (with index 0) is 0.01.\n",
      "\t Probability of playing [0 1 2] (with index 1) is 0.005.\n",
      "\t Probability of playing [1 1 1] (with index 2) is 0.985.\n",
      "\n",
      "\n",
      "\n",
      "\n",
      "Viable strategies for agent 1:\n",
      "\t Probability of playing [0 0 3] (with index 0) is 0.015.\n",
      "\t Probability of playing [0 1 2] (with index 1) is 0.406.\n",
      "\t Probability of playing [1 1 1] (with index 2) is 0.58.\n",
      "\n",
      "\n",
      "\n",
      "\n"
     ]
    }
   ],
   "source": [
    "temp_SE.viable_strategies()"
   ]
  },
  {
   "cell_type": "code",
   "execution_count": 113,
   "metadata": {},
   "outputs": [],
   "source": [
    "# traj = np.array([temp_SE.agents[1].strategy_sums ])\n",
    "\n",
    "# plotOnSimplex(traj, \"./plots/Regret_matching_agent/RM_path3\")"
   ]
  },
  {
   "cell_type": "code",
   "execution_count": 114,
   "metadata": {},
   "outputs": [],
   "source": [
    "# traj = np.array([temp_SE.agents[0].strategy_sums ])\n",
    "\n",
    "# plotOnSimplex(traj, \"./plots/Regret_matching_agent/RM_path3\")"
   ]
  },
  {
   "cell_type": "code",
   "execution_count": 124,
   "metadata": {},
   "outputs": [
    {
     "data": {
      "text/plain": [
       "(10, 3, 1000)"
      ]
     },
     "execution_count": 124,
     "metadata": {},
     "output_type": "execute_result"
    }
   ],
   "source": [
    "traj.shape"
   ]
  },
  {
   "cell_type": "code",
   "execution_count": 142,
   "metadata": {},
   "outputs": [],
   "source": [
    "traj = np.array([Single_Evaluation(g, 100, agent=Swap_Regret_Agent, save_hist=True, priors=[np.array([1/3, 1/3, 1/3]), np.array([1/3, 1/3, 1/3])]).agents[0].strategy_sums for i in range(100)])\n"
   ]
  },
  {
   "cell_type": "code",
   "execution_count": 144,
   "metadata": {},
   "outputs": [
    {
     "name": "stdout",
     "output_type": "stream",
     "text": [
      "(3, 100, 100)\n"
     ]
    },
    {
     "data": {
      "image/png": "[encoded data removed]",
      "text/plain": [
       "<Figure size 640x480 with 1 Axes>"
      ]
     },
     "metadata": {},
     "output_type": "display_data"
    }
   ],
   "source": [
    "\n",
    "plotOnSimplex(traj, \"./plots/swap_agent/SA_many\")"
   ]
  },
  {
   "cell_type": "code",
   "execution_count": 131,
   "metadata": {},
   "outputs": [],
   "source": [
    "# traj = np.array([Single_Evaluation(g, 7, agent=Regret_Minimisation_Agent, save_hist=True).agents[0].strategy_sums for i in range(100)])\n",
    "\n",
    "# plotOnSimplex(traj, \"./plots/Regret_matching_agent/RM_path2\")"
   ]
  },
  {
   "cell_type": "code",
   "execution_count": null,
   "metadata": {},
   "outputs": [],
   "source": [
    "g = Collapsed_Blotto(3, (3, 3))\n",
    "# SE = Single_Evaluation(g, 1000, agent=Swap_Regret_Agent, save_hist=True)"
   ]
  },
  {
   "cell_type": "code",
   "execution_count": 314,
   "metadata": {},
   "outputs": [
    {
     "name": "stdout",
     "output_type": "stream",
     "text": [
      "(3, 500, 50)\n"
     ]
    },
    {
     "data": {
      "image/png": "[encoded data removed]",
      "text/plain": [
       "<Figure size 640x480 with 1 Axes>"
      ]
     },
     "metadata": {},
     "output_type": "display_data"
    }
   ],
   "source": [
    "traj = np.array([Single_Evaluation(g, 500, agent=Swap_Regret_Agent, save_hist=True).agents[0].strategy_sums for i in range(50)])\n",
    "\n",
    "plotOnSimplex(traj, \"./plots/swap_agent/plot2\")"
   ]
  },
  {
   "cell_type": "code",
   "execution_count": 9,
   "metadata": {},
   "outputs": [
    {
     "data": {
      "text/plain": [
       "1.0"
      ]
     },
     "execution_count": 9,
     "metadata": {},
     "output_type": "execute_result"
    }
   ],
   "source": [
    "\n",
    "evaluate(Agent(g, 0, np.array([1,0,0])))"
   ]
  },
  {
   "cell_type": "code",
   "execution_count": 103,
   "metadata": {},
   "outputs": [
    {
     "name": "stdout",
     "output_type": "stream",
     "text": [
      "Viable strategies for agent 0:\n",
      "\t Probability of playing [3 2 0] (with index 3) is 0.11.\n",
      "\t Probability of playing [3 1 1] (with index 4) is 0.11.\n",
      "\t Probability of playing [3 0 2] (with index 5) is 0.116.\n",
      "\t Probability of playing [2 3 0] (with index 6) is 0.114.\n",
      "\t Probability of playing [2 0 3] (with index 9) is 0.111.\n",
      "\t Probability of playing [1 3 1] (with index 11) is 0.108.\n",
      "\t Probability of playing [1 1 3] (with index 13) is 0.111.\n",
      "\t Probability of playing [0 3 2] (with index 17) is 0.111.\n",
      "\t Probability of playing [0 2 3] (with index 18) is 0.108.\n",
      "\n",
      "\n",
      "\n",
      "\n",
      "Viable strategies for agent 1:\n",
      "\t Probability of playing [3 2 0] (with index 3) is 0.099.\n",
      "\t Probability of playing [3 1 1] (with index 4) is 0.112.\n",
      "\t Probability of playing [3 0 2] (with index 5) is 0.119.\n",
      "\t Probability of playing [2 3 0] (with index 6) is 0.118.\n",
      "\t Probability of playing [2 0 3] (with index 9) is 0.104.\n",
      "\t Probability of playing [1 3 1] (with index 11) is 0.114.\n",
      "\t Probability of playing [1 1 3] (with index 13) is 0.11.\n",
      "\t Probability of playing [0 3 2] (with index 17) is 0.102.\n",
      "\t Probability of playing [0 2 3] (with index 18) is 0.122.\n",
      "\n",
      "\n",
      "\n",
      "\n"
     ]
    }
   ],
   "source": [
    "SE.viable_strategies(eps=0.05)"
   ]
  },
  {
   "cell_type": "code",
   "execution_count": 55,
   "metadata": {},
   "outputs": [
    {
     "name": "stdout",
     "output_type": "stream",
     "text": [
      "Viable strategies for agent 0:\n",
      "\t Probability of playing [3 2 0] (with index 3) is 0.108.\n",
      "\t Probability of playing [3 1 1] (with index 4) is 0.107.\n",
      "\t Probability of playing [3 0 2] (with index 5) is 0.122.\n",
      "\t Probability of playing [2 3 0] (with index 6) is 0.124.\n",
      "\t Probability of playing [2 0 3] (with index 9) is 0.104.\n",
      "\t Probability of playing [1 3 1] (with index 11) is 0.104.\n",
      "\t Probability of playing [1 1 3] (with index 13) is 0.109.\n",
      "\t Probability of playing [0 3 2] (with index 17) is 0.107.\n",
      "\t Probability of playing [0 2 3] (with index 18) is 0.115.\n",
      "\n",
      "\n",
      "\n",
      "\n",
      "Viable strategies for agent 1:\n",
      "\t Probability of playing [3 2 0] (with index 3) is 0.084.\n",
      "\t Probability of playing [3 1 1] (with index 4) is 0.123.\n",
      "\t Probability of playing [3 0 2] (with index 5) is 0.119.\n",
      "\t Probability of playing [2 3 0] (with index 6) is 0.146.\n",
      "\t Probability of playing [2 0 3] (with index 9) is 0.072.\n",
      "\t Probability of playing [1 3 1] (with index 11) is 0.102.\n",
      "\t Probability of playing [1 1 3] (with index 13) is 0.136.\n",
      "\t Probability of playing [0 3 2] (with index 17) is 0.106.\n",
      "\t Probability of playing [0 2 3] (with index 18) is 0.112.\n",
      "\n",
      "\n",
      "\n",
      "\n"
     ]
    }
   ],
   "source": [
    "SE.viable_strategies(eps=0.05)\n",
    "strat = SE.get_strategies()[0]"
   ]
  },
  {
   "cell_type": "code",
   "execution_count": 32,
   "metadata": {},
   "outputs": [
    {
     "data": {
      "text/plain": [
       "1.0"
      ]
     },
     "execution_count": 32,
     "metadata": {},
     "output_type": "execute_result"
    }
   ],
   "source": [
    "strat = np.zeros(21)\n",
    "strat[4] = 1\n",
    "evaluate(Agent(g, 0, strat))"
   ]
  },
  {
   "cell_type": "code",
   "execution_count": 5,
   "metadata": {},
   "outputs": [],
   "source": [
    "g = Blotto(3, (3, 3))\n",
    "SE = Single_Evaluation(g, 50000, Swap_Regret_Agent)\n",
    "strat = SE.get_strategies()[0]"
   ]
  },
  {
   "cell_type": "code",
   "execution_count": 6,
   "metadata": {},
   "outputs": [
    {
     "data": {
      "text/plain": [
       "array([1.72629853e-05, 8.49838530e-02, 1.82324767e-01, 2.50692453e-01,\n",
       "       3.44972421e-02, 6.15838676e-02, 2.63091629e-06, 1.36997558e-01,\n",
       "       2.48897181e-01, 3.18516590e-06])"
      ]
     },
     "execution_count": 6,
     "metadata": {},
     "output_type": "execute_result"
    }
   ],
   "source": [
    "strat"
   ]
  },
  {
   "cell_type": "code",
   "execution_count": 7,
   "metadata": {},
   "outputs": [
    {
     "data": {
      "text/plain": [
       "0.092"
      ]
     },
     "execution_count": 7,
     "metadata": {},
     "output_type": "execute_result"
    }
   ],
   "source": [
    "evaluate(Agent(g, 0, strat))"
   ]
  },
  {
   "cell_type": "code",
   "execution_count": 5,
   "metadata": {},
   "outputs": [],
   "source": [
    "g = Blotto(3, (4, 4))"
   ]
  },
  {
   "cell_type": "code",
   "execution_count": 6,
   "metadata": {},
   "outputs": [],
   "source": [
    "SE = Single_Evaluation(g, 5000)\n",
    "strat = SE.get_strategies()[0]"
   ]
  },
  {
   "cell_type": "code",
   "execution_count": 7,
   "metadata": {},
   "outputs": [
    {
     "data": {
      "text/plain": [
       "0.031"
      ]
     },
     "execution_count": 7,
     "metadata": {},
     "output_type": "execute_result"
    }
   ],
   "source": [
    "evaluate(Agent(g, 0, strat))"
   ]
  },
  {
   "cell_type": "code",
   "execution_count": 8,
   "metadata": {},
   "outputs": [],
   "source": [
    "g = Blotto(5, (7, 7))"
   ]
  },
  {
   "cell_type": "code",
   "execution_count": 8,
   "metadata": {},
   "outputs": [],
   "source": [
    "SE = Single_Evaluation(Collapsed_Blotto(3, (7, 7)), 100000)\n",
    "strat = SE.get_strategies()[0]"
   ]
  },
  {
   "cell_type": "code",
   "execution_count": 9,
   "metadata": {},
   "outputs": [
    {
     "data": {
      "text/plain": [
       "0"
      ]
     },
     "execution_count": 9,
     "metadata": {},
     "output_type": "execute_result"
    }
   ],
   "source": [
    "evaluate(Agent(Collapsed_Blotto(3, (7, 7)), 0, strat))"
   ]
  },
  {
   "cell_type": "code",
   "execution_count": 4,
   "metadata": {},
   "outputs": [
    {
     "data": {
      "text/plain": [
       "-1.0"
      ]
     },
     "execution_count": 4,
     "metadata": {},
     "output_type": "execute_result"
    }
   ],
   "source": [
    "A = np.array([0, 0, 0])\n",
    "B = np.array([1, 0, 0])\n",
    "average_payoff(A, B)"
   ]
  },
  {
   "cell_type": "code",
   "execution_count": null,
   "metadata": {},
   "outputs": [],
   "source": [
    "def soldier_dist(i, N, S, out):\n",
    "    if S == 0:\n",
    "        out += [0] * N\n",
    "        return np.array(out, dtype=int)\n",
    "    if N == 1:\n",
    "        out.append(S)\n",
    "        return np.array(out, dtype=int)\n",
    "    temp = 1\n",
    "    for s in range(S + 1):\n",
    "        if s >= 1:\n",
    "            temp = (temp * (N + s - 2)) // s\n",
    "        if temp > i:\n",
    "            out.append(S - s)\n",
    "            return soldier_dist(i, N - 1, s, out)\n",
    "        else:\n",
    "            i -= temp"
   ]
  },
  {
   "cell_type": "code",
   "execution_count": 16,
   "metadata": {},
   "outputs": [
    {
     "name": "stdout",
     "output_type": "stream",
     "text": [
      "[0 0 7]\n",
      "[0 1 6]\n",
      "[0 2 5]\n",
      "[0 3 4]\n",
      "[1 1 5]\n",
      "[1 2 4]\n",
      "[1 3 3]\n",
      "[2 2 3]\n"
     ]
    },
    {
     "ename": "Exception",
     "evalue": "You are bad at coding >:(",
     "output_type": "error",
     "traceback": [
      "\u001b[1;31m---------------------------------------------------------------------------\u001b[0m",
      "\u001b[1;31mException\u001b[0m                                 Traceback (most recent call last)",
      "Cell \u001b[1;32mIn[16], line 2\u001b[0m\n\u001b[0;32m      1\u001b[0m \u001b[39mfor\u001b[39;00m i \u001b[39min\u001b[39;00m \u001b[39mrange\u001b[39m(\u001b[39m100\u001b[39m):\n\u001b[1;32m----> 2\u001b[0m     \u001b[39mprint\u001b[39m(soldier_dist_collapsed(i, \u001b[39m3\u001b[39;49m, \u001b[39m7\u001b[39;49m, Collapsed_Blotto(\u001b[39m3\u001b[39;49m, (\u001b[39m7\u001b[39;49m, \u001b[39m7\u001b[39;49m))\u001b[39m.\u001b[39;49mlookup_mats[\u001b[39m0\u001b[39;49m], []))\n",
      "File \u001b[1;32mc:\\Users\\Prog\\Documents\\Regret-learning\\Blotto_infra.py:61\u001b[0m, in \u001b[0;36msoldier_dist_collapsed\u001b[1;34m(i, N, S, lookup_mat, out, base)\u001b[0m\n\u001b[0;32m     59\u001b[0m     base \u001b[39m+\u001b[39m\u001b[39m=\u001b[39m s\n\u001b[0;32m     60\u001b[0m     out\u001b[39m.\u001b[39mappend(base)\n\u001b[1;32m---> 61\u001b[0m     \u001b[39mreturn\u001b[39;00m soldier_dist_collapsed(i, N \u001b[39m-\u001b[39;49m \u001b[39m1\u001b[39;49m, S \u001b[39m-\u001b[39;49m s \u001b[39m*\u001b[39;49m N, lookup_mat, out, base)\n\u001b[0;32m     62\u001b[0m \u001b[39melse\u001b[39;00m:\n\u001b[0;32m     63\u001b[0m     i \u001b[39m-\u001b[39m\u001b[39m=\u001b[39m temp\n",
      "File \u001b[1;32mc:\\Users\\Prog\\Documents\\Regret-learning\\Blotto_infra.py:64\u001b[0m, in \u001b[0;36msoldier_dist_collapsed\u001b[1;34m(i, N, S, lookup_mat, out, base)\u001b[0m\n\u001b[0;32m     62\u001b[0m     \u001b[39melse\u001b[39;00m:\n\u001b[0;32m     63\u001b[0m         i \u001b[39m-\u001b[39m\u001b[39m=\u001b[39m temp\n\u001b[1;32m---> 64\u001b[0m \u001b[39mraise\u001b[39;00m \u001b[39mException\u001b[39;00m(\u001b[39m\"\u001b[39m\u001b[39mYou are bad at coding >:(\u001b[39m\u001b[39m\"\u001b[39m)\n",
      "\u001b[1;31mException\u001b[0m: You are bad at coding >:("
     ]
    }
   ],
   "source": [
    "# for i in range(100):\n",
    "#     print(soldier_dist_collapsed(i, 3, 7, Collapsed_Blotto(3, (7, 7)).lookup_mats[0], []))"
   ]
  },
  {
   "cell_type": "code",
   "execution_count": 4,
   "metadata": {},
   "outputs": [
    {
     "name": "stdout",
     "output_type": "stream",
     "text": [
      "[3, 3]\n",
      "Utility of Agent 0 is 467.9999999999977\n",
      "[0.333 0.333 0.333]\n",
      "Utility of Agent 1 is -467.9999999999977\n",
      "[1. 0. 0.]\n",
      "Utility of Agent 0 is 350.33333333333775\n",
      "[0.333 0.333 0.333]\n",
      "Utility of Agent 1 is 117.66666666666607\n",
      "[0. 1. 0.]\n",
      "Utility of Agent 0 is -7.666666666662252\n",
      "[0.333 0.333 0.333]\n",
      "Utility of Agent 1 is 358.0\n",
      "[0. 0. 1.]\n"
     ]
    },
    {
     "data": {
      "text/plain": [
       "0.358"
      ]
     },
     "execution_count": 4,
     "metadata": {},
     "output_type": "execute_result"
    }
   ],
   "source": [
    "g = Collapsed_Blotto(3, (3, 3))\n",
    "print(g.action_counts)\n",
    "p1 = np.ones(3)\n",
    "# p1[0] = 0.05\n",
    "# p1[1] = 0.2\n",
    "# p1[2] = 0.75\n",
    "p1 = p1/len(p1)\n",
    "evaluate(Agent(g, 0, p1))\n"
   ]
  },
  {
   "cell_type": "code",
   "execution_count": 20,
   "metadata": {},
   "outputs": [
    {
     "name": "stdout",
     "output_type": "stream",
     "text": [
      "[4, 4]\n",
      "Utility of Agent 0 is 0.0\n",
      "[0.   0.25 0.75 0.  ]\n",
      "Utility of Agent 1 is 0.0\n",
      "[0. 0. 1. 0.]\n"
     ]
    },
    {
     "data": {
      "text/plain": [
       "array([0, 1, 2])"
      ]
     },
     "execution_count": 20,
     "metadata": {},
     "output_type": "execute_result"
    }
   ],
   "source": [
    "g = Collapsed_Blotto(3, (3, 3))\n",
    "print(g.action_counts)\n",
    "p1 = np.zeros(3)\n",
    "p1[1] = 0.25\n",
    "p1[2] = 0.75\n",
    "p2 = np.zeros(4)\n",
    "\n",
    "i = 2\n",
    "p2[i] = 1\n",
    "\n",
    "Trainer(g, [Agent(g, 0, p1), Agent(g, 1, p2)]).train(10000)\n",
    "soldier_dist_collapsed(1, 3, 3, g.lookup_mats[0], [])"
   ]
  },
  {
   "cell_type": "code",
   "execution_count": 16,
   "metadata": {},
   "outputs": [
    {
     "data": {
      "text/plain": [
       "0.0"
      ]
     },
     "execution_count": 16,
     "metadata": {},
     "output_type": "execute_result"
    }
   ],
   "source": [
    "g._get_utility(0, (2, 1))"
   ]
  },
  {
   "cell_type": "code",
   "execution_count": 2,
   "metadata": {},
   "outputs": [
    {
     "data": {
      "text/plain": [
       "<infrastructure.Single_Evaluation at 0x1afbb90b130>"
      ]
     },
     "execution_count": 2,
     "metadata": {},
     "output_type": "execute_result"
    }
   ],
   "source": [
    "SE = Single_Evaluation(Collapsed_Blotto(3, (7, 7)), 100000)\n",
    "SE"
   ]
  },
  {
   "cell_type": "code",
   "execution_count": 3,
   "metadata": {},
   "outputs": [
    {
     "data": {
      "image/png": "[encoded data removed]",
      "text/plain": [
       "<Figure size 640x480 with 1 Axes>"
      ]
     },
     "metadata": {},
     "output_type": "display_data"
    }
   ],
   "source": [
    "SE.plot_regrets()"
   ]
  },
  {
   "cell_type": "code",
   "execution_count": 3,
   "metadata": {},
   "outputs": [
    {
     "name": "stdout",
     "output_type": "stream",
     "text": [
      "[-6.333433e+04 -2.998500e+04 -4.667000e+01  6.700000e-01 -2.539000e+03\n",
      "  1.000000e+00 -6.564670e+03 -4.072000e+03]\n",
      "[-7.091500e+04 -3.756967e+04  3.000000e+00  1.500000e+01 -4.248330e+03\n",
      "  2.700000e+01 -1.448400e+04 -1.022067e+04]\n"
     ]
    }
   ],
   "source": [
    "for a in SE.agents:\n",
    "    print(np.round(a.regrets, 2)) "
   ]
  },
  {
   "cell_type": "code",
   "execution_count": 13,
   "metadata": {},
   "outputs": [
    {
     "name": "stdout",
     "output_type": "stream",
     "text": [
      "Viable strategies for agent 0:\n",
      "\t Probability of playing [2 1 0] (with index 1) is 0.149.\n",
      "\t Probability of playing [2 0 1] (with index 2) is 0.163.\n",
      "\t Probability of playing [1 2 0] (with index 3) is 0.163.\n",
      "\t Probability of playing [1 0 2] (with index 5) is 0.149.\n",
      "\t Probability of playing [0 2 1] (with index 7) is 0.15.\n",
      "\t Probability of playing [0 1 2] (with index 8) is 0.163.\n",
      "\n",
      "\n",
      "\n",
      "\n",
      "Viable strategies for agent 1:\n",
      "\t Probability of playing [2 1 0] (with index 1) is 0.163.\n",
      "\t Probability of playing [2 0 1] (with index 2) is 0.164.\n",
      "\t Probability of playing [1 2 0] (with index 3) is 0.164.\n",
      "\t Probability of playing [1 0 2] (with index 5) is 0.163.\n",
      "\t Probability of playing [0 2 1] (with index 7) is 0.163.\n",
      "\t Probability of playing [0 1 2] (with index 8) is 0.165.\n",
      "\n",
      "\n",
      "\n",
      "\n"
     ]
    }
   ],
   "source": [
    "Single_Evaluation(Blotto(3, (3, 3)), 1000000).viable_strategies(eps=0.1)"
   ]
  },
  {
   "cell_type": "code",
   "execution_count": 13,
   "metadata": {},
   "outputs": [
    {
     "name": "stdout",
     "output_type": "stream",
     "text": [
      "Viable strategies for agent 0:\n",
      "\t Probability of playing [0 1 2] (with index 1) is 0.251.\n",
      "\t Probability of playing [1 1 1] (with index 2) is 0.749.\n",
      "\n",
      "\n",
      "\n",
      "\n",
      "Viable strategies for agent 1:\n",
      "\t Probability of playing [0 1 2] (with index 1) is 0.25.\n",
      "\t Probability of playing [1 1 1] (with index 2) is 0.748.\n",
      "\n",
      "\n",
      "\n",
      "\n"
     ]
    }
   ],
   "source": [
    "Single_Evaluation(Collapsed_Blotto(3, (3, 3)), 1000).viable_strategies(eps=0.01)"
   ]
  },
  {
   "cell_type": "code",
   "execution_count": 20,
   "metadata": {},
   "outputs": [
    {
     "data": {
      "text/plain": [
       "array([ 0.33333333,  0.        ,  0.        ,  0.        ,  0.        ,\n",
       "        0.        , -0.33333333, -0.33333333])"
      ]
     },
     "execution_count": 20,
     "metadata": {},
     "output_type": "execute_result"
    }
   ],
   "source": [
    "Collapsed_Blotto(3, (7, 7)).payoff_matrix[0][2]"
   ]
  },
  {
   "cell_type": "code",
   "execution_count": 6,
   "metadata": {},
   "outputs": [
    {
     "data": {
      "text/plain": [
       "array([ 1.        ,  0.66666667,  0.        ,  0.        ,  0.33333333,\n",
       "        0.        ,  0.        , -0.33333333])"
      ]
     },
     "execution_count": 6,
     "metadata": {},
     "output_type": "execute_result"
    }
   ],
   "source": [
    "Collapsed_Blotto(3, (7, 7)).payoff_matrix[0][5]"
   ]
  },
  {
   "cell_type": "code",
   "execution_count": 5,
   "metadata": {},
   "outputs": [
    {
     "data": {
      "text/plain": [
       "array([ 0.33333333,  0.        ,  0.        ,  0.        , -0.33333333,\n",
       "        0.        ,  0.33333333,  0.66666667])"
      ]
     },
     "execution_count": 5,
     "metadata": {},
     "output_type": "execute_result"
    }
   ],
   "source": [
    "Collapsed_Blotto(3, (7, 7)).payoff_matrix[0][3]"
   ]
  },
  {
   "cell_type": "code",
   "execution_count": 7,
   "metadata": {},
   "outputs": [
    {
     "data": {
      "text/plain": [
       "array([ 1.        ,  0.33333333,  0.        ,  0.33333333,  0.        ,\n",
       "       -0.33333333, -0.33333333, -1.        ])"
      ]
     },
     "execution_count": 7,
     "metadata": {},
     "output_type": "execute_result"
    }
   ],
   "source": [
    "Collapsed_Blotto(3, (7, 7)).payoff_matrix[0][4]"
   ]
  },
  {
   "cell_type": "code",
   "execution_count": 12,
   "metadata": {},
   "outputs": [],
   "source": [
    "import numpy as np"
   ]
  },
  {
   "cell_type": "code",
   "execution_count": null,
   "metadata": {},
   "outputs": [
    {
     "data": {
      "text/plain": [
       "array([[[1, 2, 3],\n",
       "        [4, 5, 6]],\n",
       "\n",
       "       [[2, 3, 4],\n",
       "        [6, 7, 8]]])"
      ]
     },
     "execution_count": 14,
     "metadata": {},
     "output_type": "execute_result"
    }
   ],
   "source": [
    "arr =np.array([np.array([np.array([1,2,3]), np.array([4,5,6])]), np.array([np.array([1,2,3]) + 1, np.array([4,5,6]) + 2])] )\n",
    "arr"
   ]
  },
  {
   "cell_type": "code",
   "execution_count": null,
   "metadata": {},
   "outputs": [
    {
     "data": {
      "text/plain": [
       "array([[0.5, 0.5, 0.5],\n",
       "       [1. , 1. , 1. ]])"
      ]
     },
     "execution_count": 15,
     "metadata": {},
     "output_type": "execute_result"
    }
   ],
   "source": [
    "np.std(arr, axis=0)"
   ]
  },
  {
   "attachments": {},
   "cell_type": "markdown",
   "metadata": {},
   "source": [
    "We can collapse the number of strategies by arguing that to an agent, the order of the battlefields do not matter. Hence, letting the total number of partitions of $S$ soldiers into $N$  battlefields be $P_N(S)$, we have\n",
    "$$\n",
    "P_N(S) = P_{N-1}(S) + P_{N-1}(S-N) + P_{N-1}(S-2) +...\n",
    "$$\n",
    "where $P_n(0)=1$ and $P_n(M)=0$ for $M<0$\n"
   ]
  },
  {
   "cell_type": "code",
   "execution_count": 2,
   "metadata": {},
   "outputs": [
    {
     "name": "stdout",
     "output_type": "stream",
     "text": [
      "[1. 1. 1. 1. 1. 1.] [0 0 0 0 0 1] inputs\n",
      "[1. 1. 1. 1. 1. 1.]\n",
      "[0. 1. 0. 1. 0. 1.] [1. 1. 1. 1. 1. 1.] inputs\n",
      "[1. 1. 2. 2. 3. 3. 2. 2. 1. 1.]\n",
      "[0. 0. 1. 0. 0. 1.] [3. 3. 2. 2. 1. 1.] inputs\n",
      "[3. 3. 2. 5. 4. 3. 2. 1. 1.]\n"
     ]
    },
    {
     "data": {
      "text/plain": [
       "array([[1., 0., 0., 0., 0., 0.],\n",
       "       [1., 1., 1., 1., 1., 1.],\n",
       "       [1., 1., 2., 2., 3., 3.],\n",
       "       [1., 1., 2., 3., 4., 5.]])"
      ]
     },
     "execution_count": 2,
     "metadata": {},
     "output_type": "execute_result"
    }
   ],
   "source": [
    "partition_matrix(3, 5)"
   ]
  },
  {
   "cell_type": "code",
   "execution_count": 10,
   "metadata": {},
   "outputs": [
    {
     "ename": "Exception",
     "evalue": "You are bad at coding >:(",
     "output_type": "error",
     "traceback": [
      "\u001b[1;31m---------------------------------------------------------------------------\u001b[0m",
      "\u001b[1;31mException\u001b[0m                                 Traceback (most recent call last)",
      "Cell \u001b[1;32mIn[10], line 3\u001b[0m\n\u001b[0;32m      1\u001b[0m N \u001b[39m=\u001b[39m \u001b[39m3\u001b[39m\n\u001b[0;32m      2\u001b[0m S \u001b[39m=\u001b[39m \u001b[39m5\u001b[39m\n\u001b[1;32m----> 3\u001b[0m soldier_dist_collapsed(\u001b[39m5\u001b[39;49m, N, S, partition_matrix(N, S), out \u001b[39m=\u001b[39;49m[])\n",
      "File \u001b[1;32mc:\\Users\\Prog\\Documents\\Regret-learning\\Blotto_infra.py:64\u001b[0m, in \u001b[0;36msoldier_dist_collapsed\u001b[1;34m(i, N, S, lookup_mat, out, base)\u001b[0m\n\u001b[0;32m     62\u001b[0m     base \u001b[39m+\u001b[39m\u001b[39m=\u001b[39m s\n\u001b[0;32m     63\u001b[0m     out\u001b[39m.\u001b[39mappend(base)\n\u001b[1;32m---> 64\u001b[0m     \u001b[39mreturn\u001b[39;00m soldier_dist_collapsed(i, N \u001b[39m-\u001b[39;49m \u001b[39m1\u001b[39;49m, S \u001b[39m-\u001b[39;49m s \u001b[39m*\u001b[39;49m N, lookup_mat, out, base)\n\u001b[0;32m     65\u001b[0m \u001b[39melse\u001b[39;00m:\n\u001b[0;32m     66\u001b[0m     i \u001b[39m-\u001b[39m\u001b[39m=\u001b[39m temp\n",
      "File \u001b[1;32mc:\\Users\\Prog\\Documents\\Regret-learning\\Blotto_infra.py:67\u001b[0m, in \u001b[0;36msoldier_dist_collapsed\u001b[1;34m(i, N, S, lookup_mat, out, base)\u001b[0m\n\u001b[0;32m     65\u001b[0m     \u001b[39melse\u001b[39;00m:\n\u001b[0;32m     66\u001b[0m         i \u001b[39m-\u001b[39m\u001b[39m=\u001b[39m temp\n\u001b[1;32m---> 67\u001b[0m \u001b[39mraise\u001b[39;00m \u001b[39mException\u001b[39;00m(\u001b[39m\"\u001b[39m\u001b[39mYou are bad at coding >:(\u001b[39m\u001b[39m\"\u001b[39m)\n",
      "\u001b[1;31mException\u001b[0m: You are bad at coding >:("
     ]
    }
   ],
   "source": [
    "N = 3\n",
    "S = 5\n",
    "soldier_dist_collapsed(5, N, S, partition_matrix(N, S), out =[])"
   ]
  },
  {
   "cell_type": "code",
   "execution_count": 2,
   "metadata": {},
   "outputs": [
    {
     "data": {
      "text/plain": [
       "array([[1., 0., 0., 0.],\n",
       "       [1., 1., 1., 1.],\n",
       "       [0., 1., 1., 2.]])"
      ]
     },
     "execution_count": 2,
     "metadata": {},
     "output_type": "execute_result"
    }
   ],
   "source": [
    "partition_matrix(2, 3)"
   ]
  }
 ],
 "metadata": {
  "kernelspec": {
   "display_name": "Python 3",
   "language": "python",
   "name": "python3"
  },
  "language_info": {
   "codemirror_mode": {
    "name": "ipython",
    "version": 3
   },
   "file_extension": ".py",
   "mimetype": "text/x-python",
   "name": "python",
   "nbconvert_exporter": "python",
   "pygments_lexer": "ipython3",
   "version": "3.10.1 (tags/v3.10.1:2cd268a, Dec  6 2021, 19:10:37) [MSC v.1929 64 bit (AMD64)]"
  },
  "orig_nbformat": 4,
  "vscode": {
   "interpreter": {
    "hash": "bb7e7e116cf573f9806de94c4b2f308bcfee17df1b0d668c2e26b972481ef263"
   }
  }
 },
 "nbformat": 4,
 "nbformat_minor": 2
}
