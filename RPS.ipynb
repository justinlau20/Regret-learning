{
 "cells": [
  {
   "cell_type": "code",
   "execution_count": 1,
   "id": "5b25cf28",
   "metadata": {},
   "outputs": [],
   "source": [
    "from RPS import *\n",
    "from infrastructure import find_CE"
   ]
  },
  {
   "cell_type": "markdown",
   "id": "bdf11e71",
   "metadata": {},
   "source": [
    "rock, paper, scissors = 0, 1, 2"
   ]
  },
  {
   "cell_type": "markdown",
   "id": "e1b1d63a",
   "metadata": {},
   "source": [
    "Find Nash equilibrium for RPS"
   ]
  },
  {
   "cell_type": "code",
   "execution_count": 2,
   "id": "54db80ca",
   "metadata": {},
   "outputs": [
    {
     "name": "stdout",
     "output_type": "stream",
     "text": [
      "Viable strategies for agent 0:\n",
      "\t Probability of playing Rock is 0.333.\n",
      "\t Probability of playing Paper is 0.334.\n",
      "\t Probability of playing Scissors is 0.333.\n",
      "\n",
      "\n",
      "\n",
      "\n",
      "Viable strategies for agent 1:\n",
      "\t Probability of playing Rock is 0.329.\n",
      "\t Probability of playing Paper is 0.335.\n",
      "\t Probability of playing Scissors is 0.335.\n",
      "\n",
      "\n",
      "\n",
      "\n"
     ]
    }
   ],
   "source": [
    "g= RPS()\n",
    "Single_Evaluation(RPS()).viable_strategies()"
   ]
  },
  {
   "attachments": {},
   "cell_type": "markdown",
   "id": "8f1e0ebe",
   "metadata": {},
   "source": [
    "Find NE for RPS where payoff for Rock vs Scissors is doubled."
   ]
  },
  {
   "cell_type": "code",
   "execution_count": 5,
   "id": "77be57ec",
   "metadata": {},
   "outputs": [
    {
     "data": {
      "text/plain": [
       "[<infrastructure.Regret_Minimisation_Agent at 0x25e2c740b20>,\n",
       " <infrastructure.Regret_Minimisation_Agent at 0x25e2c742170>]"
      ]
     },
     "execution_count": 5,
     "metadata": {},
     "output_type": "execute_result"
    }
   ],
   "source": [
    "Single_Evaluation(RPS_Rock_Double()).viable_strategies()"
   ]
  },
  {
   "cell_type": "code",
   "execution_count": 5,
   "id": "817b6c65",
   "metadata": {},
   "outputs": [
    {
     "data": {
      "text/plain": [
       "array([[0.16628921, 0.3337983 , 0.33362327, 0.16628921],\n",
       "       [0.16681918, 0.33803591, 0.32832573, 0.16681918]])"
      ]
     },
     "execution_count": 5,
     "metadata": {},
     "output_type": "execute_result"
    }
   ],
   "source": [
    "# find_Nash(RPS_With_Stone())"
   ]
  },
  {
   "cell_type": "code",
   "execution_count": 4,
   "id": "43036dff",
   "metadata": {},
   "outputs": [
    {
     "name": "stdout",
     "output_type": "stream",
     "text": [
      "Viable strategies for agent 0:\n",
      "\t Probability of playing Rock is 0.168.\n",
      "\t Probability of playing Paper is 0.333.\n",
      "\t Probability of playing Scissors is 0.331.\n"
     ]
    },
    {
     "ename": "KeyError",
     "evalue": "3",
     "output_type": "error",
     "traceback": [
      "\u001b[1;31m---------------------------------------------------------------------------\u001b[0m",
      "\u001b[1;31mKeyError\u001b[0m                                  Traceback (most recent call last)",
      "Cell \u001b[1;32mIn[4], line 1\u001b[0m\n\u001b[1;32m----> 1\u001b[0m Single_Evaluation(RPS_With_Stone())\u001b[39m.\u001b[39;49mviable_strategies()\n",
      "File \u001b[1;32mc:\\Users\\Prog\\Documents\\Regret-learning\\infrastructure.py:163\u001b[0m, in \u001b[0;36mSingle_Evaluation.viable_strategies\u001b[1;34m(self, eps, dps)\u001b[0m\n\u001b[0;32m    161\u001b[0m \u001b[39mfor\u001b[39;00m action_index, prob \u001b[39min\u001b[39;00m \u001b[39menumerate\u001b[39m(np\u001b[39m.\u001b[39mround(agent\u001b[39m.\u001b[39mcum_strat, dps)):\n\u001b[0;32m    162\u001b[0m     \u001b[39mif\u001b[39;00m prob \u001b[39m>\u001b[39m\u001b[39m=\u001b[39m eps:\n\u001b[1;32m--> 163\u001b[0m         \u001b[39mprint\u001b[39m(\u001b[39mf\u001b[39m\u001b[39m\"\u001b[39m\u001b[39m\\t\u001b[39;00m\u001b[39m Probability of playing \u001b[39m\u001b[39m{\u001b[39;00m\u001b[39mself\u001b[39;49m\u001b[39m.\u001b[39;49mgame\u001b[39m.\u001b[39;49mstrategy_maps[index][action_index]\u001b[39m}\u001b[39;00m\u001b[39m is \u001b[39m\u001b[39m{\u001b[39;00mprob\u001b[39m}\u001b[39;00m\u001b[39m.\u001b[39m\u001b[39m\"\u001b[39m)\n\u001b[0;32m    164\u001b[0m \u001b[39mprint\u001b[39m(\u001b[39m\"\u001b[39m\u001b[39m\\n\u001b[39;00m\u001b[39m\\n\u001b[39;00m\u001b[39m\\n\u001b[39;00m\u001b[39m\"\u001b[39m)\n",
      "\u001b[1;31mKeyError\u001b[0m: 3"
     ]
    }
   ],
   "source": [
    "Single_Evaluation(RPS_With_Stone()).viable_strategies()"
   ]
  },
  {
   "cell_type": "code",
   "execution_count": null,
   "id": "43bedeb4",
   "metadata": {},
   "outputs": [],
   "source": []
  }
 ],
 "metadata": {
  "kernelspec": {
   "display_name": "Python 3.10.1 64-bit",
   "language": "python",
   "name": "python3"
  },
  "language_info": {
   "codemirror_mode": {
    "name": "ipython",
    "version": 3
   },
   "file_extension": ".py",
   "mimetype": "text/x-python",
   "name": "python",
   "nbconvert_exporter": "python",
   "pygments_lexer": "ipython3",
   "version": "3.10.1"
  },
  "vscode": {
   "interpreter": {
    "hash": "bb7e7e116cf573f9806de94c4b2f308bcfee17df1b0d668c2e26b972481ef263"
   }
  }
 },
 "nbformat": 4,
 "nbformat_minor": 5
}
