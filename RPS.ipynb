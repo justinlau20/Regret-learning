{
 "cells": [
  {
   "cell_type": "code",
   "execution_count": 1,
   "id": "5b25cf28",
   "metadata": {},
   "outputs": [],
   "source": [
    "from RPS import *\n",
    "from infrastructure import find_Nash"
   ]
  },
  {
   "cell_type": "markdown",
   "id": "bdf11e71",
   "metadata": {},
   "source": [
    "rock, paper, scissors = 0, 1, 2"
   ]
  },
  {
   "cell_type": "markdown",
   "id": "e1b1d63a",
   "metadata": {},
   "source": [
    "Find Nash equilibrium for RPS"
   ]
  },
  {
   "cell_type": "code",
   "execution_count": 2,
   "id": "54db80ca",
   "metadata": {},
   "outputs": [
    {
     "name": "stdout",
     "output_type": "stream",
     "text": [
      "1\n",
      "0\n"
     ]
    }
   ],
   "source": [
    "g= RPS()\n",
    "find_Nash(g)\n",
    "print(g.player_count)"
   ]
  },
  {
   "cell_type": "code",
   "execution_count": 3,
   "id": "d08d99fa",
   "metadata": {},
   "outputs": [
    {
     "name": "stdout",
     "output_type": "stream",
     "text": [
      "Utility of Agent 0 is 87\n",
      "[0.33127085 0.33412525 0.3346039 ]\n",
      "Utility of Agent 1 is -87\n",
      "[0.33277689 0.33596084 0.33126228]\n"
     ]
    }
   ],
   "source": [
    "game = RPS()\n",
    "agents = [Regret_Minimisation_Agent(game, i) for i in range(2)]\n",
    "# print(agents)\n",
    "\n",
    "Trainer(game, agents).train(100000)"
   ]
  },
  {
   "cell_type": "code",
   "execution_count": 3,
   "id": "77be57ec",
   "metadata": {},
   "outputs": [
    {
     "name": "stdout",
     "output_type": "stream",
     "text": [
      "Utility of Agent 0 is 135\n",
      "[0.24891912 0.5047295  0.24635138]\n",
      "Utility of Agent 1 is -135\n",
      "[0.25122174 0.50019703 0.24858123]\n"
     ]
    }
   ],
   "source": [
    "game = RPS_Rock_Double()\n",
    "agents = [Regret_Minimisation_Agent(game, i) for i in range(2)]\n",
    "# agents = [Regret_Minimisation_Agent(game, 0), RPS_Rock_Agent(game, 1)]\n",
    "Trainer(game, agents).train(100000)"
   ]
  },
  {
   "cell_type": "code",
   "execution_count": null,
   "id": "f2f2cb0d",
   "metadata": {},
   "outputs": [],
   "source": [
    "# %timeit Trainer(game, agents).train(10000, out=False)"
   ]
  }
 ],
 "metadata": {
  "kernelspec": {
   "display_name": "Python 3.10.1 64-bit",
   "language": "python",
   "name": "python3"
  },
  "language_info": {
   "codemirror_mode": {
    "name": "ipython",
    "version": 3
   },
   "file_extension": ".py",
   "mimetype": "text/x-python",
   "name": "python",
   "nbconvert_exporter": "python",
   "pygments_lexer": "ipython3",
   "version": "3.10.1"
  },
  "vscode": {
   "interpreter": {
    "hash": "bb7e7e116cf573f9806de94c4b2f308bcfee17df1b0d668c2e26b972481ef263"
   }
  }
 },
 "nbformat": 4,
 "nbformat_minor": 5
}
