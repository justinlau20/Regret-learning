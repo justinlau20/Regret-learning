{
 "cells": [
  {
   "cell_type": "code",
   "execution_count": 1,
   "id": "5b25cf28",
   "metadata": {},
   "outputs": [],
   "source": [
    "from RPS import *\n",
    "from infrastructure import find_Nash"
   ]
  },
  {
   "cell_type": "markdown",
   "id": "bdf11e71",
   "metadata": {},
   "source": [
    "rock, paper, scissors = 0, 1, 2"
   ]
  },
  {
   "cell_type": "markdown",
   "id": "e1b1d63a",
   "metadata": {},
   "source": [
    "Find Nash equilibrium for RPS"
   ]
  },
  {
   "cell_type": "code",
   "execution_count": 2,
   "id": "54db80ca",
   "metadata": {},
   "outputs": [
    {
     "name": "stdout",
     "output_type": "stream",
     "text": [
      "Utility of Agent 0 is -127\n",
      "[0.33101456 0.33446677 0.33451866]\n",
      "Utility of Agent 1 is 127\n",
      "[0.33317618 0.33231513 0.33450869]\n"
     ]
    }
   ],
   "source": [
    "g= RPS()\n",
    "find_Nash(g)"
   ]
  },
  {
   "cell_type": "code",
   "execution_count": 3,
   "id": "77be57ec",
   "metadata": {},
   "outputs": [
    {
     "name": "stdout",
     "output_type": "stream",
     "text": [
      "Utility of Agent 0 is -37\n",
      "[0.25095985 0.50177882 0.24726133]\n",
      "Utility of Agent 1 is 37\n",
      "[0.24973885 0.50034569 0.24991546]\n"
     ]
    }
   ],
   "source": [
    "find_Nash(RPS_Rock_Double())"
   ]
  },
  {
   "cell_type": "code",
   "execution_count": null,
   "id": "817b6c65",
   "metadata": {},
   "outputs": [],
   "source": []
  }
 ],
 "metadata": {
  "kernelspec": {
   "display_name": "Python 3.10.1 64-bit",
   "language": "python",
   "name": "python3"
  },
  "language_info": {
   "codemirror_mode": {
    "name": "ipython",
    "version": 3
   },
   "file_extension": ".py",
   "mimetype": "text/x-python",
   "name": "python",
   "nbconvert_exporter": "python",
   "pygments_lexer": "ipython3",
   "version": "3.10.1"
  },
  "vscode": {
   "interpreter": {
    "hash": "bb7e7e116cf573f9806de94c4b2f308bcfee17df1b0d668c2e26b972481ef263"
   }
  }
 },
 "nbformat": 4,
 "nbformat_minor": 5
}
