{
 "cells": [
  {
   "cell_type": "code",
   "execution_count": 2,
   "id": "5b25cf28",
   "metadata": {},
   "outputs": [],
   "source": [
    "%run infrastructure.ipynb"
   ]
  },
  {
   "cell_type": "markdown",
   "id": "bdf11e71",
   "metadata": {},
   "source": [
    "rock, paper, scissors = 0, 1, 2"
   ]
  },
  {
   "cell_type": "code",
   "execution_count": 3,
   "id": "f080ffda",
   "metadata": {},
   "outputs": [],
   "source": [
    "class RPS(Game):\n",
    "    action_count = 3\n",
    "    \n",
    "    def utility(self, actions, index):\n",
    "        if index == 0:\n",
    "            a, b = actions\n",
    "        else:\n",
    "            b, a = actions\n",
    "        diff = (a - b) % 3\n",
    "\n",
    "        if diff == 2:\n",
    "            return -1\n",
    "        \n",
    "        elif diff == 0:\n",
    "            return 0\n",
    "\n",
    "        return 1\n",
    "\n",
    "class RPS_Rock_Agent(Agent):\n",
    "    def action(self):\n",
    "        return 0"
   ]
  },
  {
   "cell_type": "markdown",
   "id": "e1b1d63a",
   "metadata": {},
   "source": [
    "Find Nash equilibrium for RPS"
   ]
  },
  {
   "cell_type": "code",
   "execution_count": 4,
   "id": "d08d99fa",
   "metadata": {},
   "outputs": [
    {
     "name": "stdout",
     "output_type": "stream",
     "text": [
      "Utility of Agent 0 is -59\n",
      "[0.32894251 0.33637549 0.334682  ]\n",
      "Utility of Agent 1 is 59\n",
      "[0.33571235 0.33257613 0.33171152]\n"
     ]
    }
   ],
   "source": [
    "game = RPS()\n",
    "agents = [Regret_Minimisation_Agent(game, i) for i in range(2)]\n",
    "\n",
    "Trainer(game, agents).train(100000)"
   ]
  },
  {
   "cell_type": "code",
   "execution_count": 5,
   "id": "bd03248e",
   "metadata": {},
   "outputs": [],
   "source": [
    "class RPS_Rock_Double(Game):\n",
    "    action_count = 3\n",
    "    \n",
    "    def utility(self, actions, index):\n",
    "        if index == 0:\n",
    "            a, b = actions\n",
    "        else:\n",
    "            b, a = actions\n",
    "        diff = (a - b) % 3\n",
    "        \n",
    "        if diff == 2:\n",
    "            if actions[index] == 2:\n",
    "                return -2\n",
    "            return -1\n",
    "        elif diff == 0:\n",
    "            return 0\n",
    "        if actions[index] == 0:\n",
    "            return 2\n",
    "        return 1"
   ]
  },
  {
   "cell_type": "code",
   "execution_count": 10,
   "id": "77be57ec",
   "metadata": {},
   "outputs": [
    {
     "name": "stdout",
     "output_type": "stream",
     "text": [
      "Utility of Agent 0 is 142\n",
      "[0.25034337 0.50124389 0.24841275]\n",
      "Utility of Agent 1 is -142\n",
      "[0.25370564 0.49434364 0.25195072]\n"
     ]
    }
   ],
   "source": [
    "game = RPS_Rock_Double()\n",
    "agents = [Regret_Minimisation_Agent(game, i) for i in range(2)]\n",
    "# agents = [Regret_Minimisation_Agent(game, 0), RPS_Rock_Agent(game, 1)]\n",
    "Trainer(game, agents).train(100000)"
   ]
  },
  {
   "cell_type": "code",
   "execution_count": null,
   "id": "f2f2cb0d",
   "metadata": {},
   "outputs": [],
   "source": [
    "# %timeit Trainer(game, agents).train(10000, out=False)"
   ]
  },
  {
   "cell_type": "code",
   "execution_count": null,
   "id": "ac8850fb",
   "metadata": {},
   "outputs": [],
   "source": [
    "Trainer(game, agents).train(1)"
   ]
  },
  {
   "cell_type": "code",
   "execution_count": null,
   "id": "c2450075",
   "metadata": {},
   "outputs": [],
   "source": []
  }
 ],
 "metadata": {
  "kernelspec": {
   "display_name": "Python 3 (ipykernel)",
   "language": "python",
   "name": "python3"
  },
  "language_info": {
   "codemirror_mode": {
    "name": "ipython",
    "version": 3
   },
   "file_extension": ".py",
   "mimetype": "text/x-python",
   "name": "python",
   "nbconvert_exporter": "python",
   "pygments_lexer": "ipython3",
   "version": "3.9.7"
  }
 },
 "nbformat": 4,
 "nbformat_minor": 5
}
