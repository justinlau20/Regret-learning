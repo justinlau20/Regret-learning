{
 "cells": [
  {
   "cell_type": "code",
   "execution_count": 5,
   "id": "5b25cf28",
   "metadata": {},
   "outputs": [],
   "source": [
    "from RPS import *\n",
    "from infrastructure import find_CE"
   ]
  },
  {
   "cell_type": "markdown",
   "id": "bdf11e71",
   "metadata": {},
   "source": [
    "rock, paper, scissors = 0, 1, 2"
   ]
  },
  {
   "cell_type": "markdown",
   "id": "e1b1d63a",
   "metadata": {},
   "source": [
    "Find Nash equilibrium for RPS"
   ]
  },
  {
   "cell_type": "code",
   "execution_count": 6,
   "id": "54db80ca",
   "metadata": {},
   "outputs": [
    {
     "name": "stdout",
     "output_type": "stream",
     "text": [
      "Viable strategies for agent 0:\n",
      "\t Probability of playing Rock is 0.331.\n",
      "\t Probability of playing Paper is 0.337.\n",
      "\t Probability of playing Scissors is 0.332.\n",
      "\n",
      "\n",
      "\n",
      "\n",
      "Viable strategies for agent 1:\n",
      "\t Probability of playing Rock is 0.331.\n",
      "\t Probability of playing Paper is 0.336.\n",
      "\t Probability of playing Scissors is 0.333.\n",
      "\n",
      "\n",
      "\n",
      "\n"
     ]
    }
   ],
   "source": [
    "g= RPS()\n",
    "Single_Evaluation(RPS()).viable_strategies()"
   ]
  },
  {
   "attachments": {},
   "cell_type": "markdown",
   "id": "8f1e0ebe",
   "metadata": {},
   "source": [
    "Find NE for RPS where payoff for Rock vs Scissors is doubled."
   ]
  },
  {
   "cell_type": "code",
   "execution_count": 7,
   "id": "77be57ec",
   "metadata": {},
   "outputs": [
    {
     "name": "stdout",
     "output_type": "stream",
     "text": [
      "Viable strategies for agent 0:\n",
      "\t Probability of playing Rock is 0.251.\n",
      "\t Probability of playing Paper is 0.501.\n",
      "\t Probability of playing Scissors is 0.247.\n",
      "\n",
      "\n",
      "\n",
      "\n",
      "Viable strategies for agent 1:\n",
      "\t Probability of playing Rock is 0.255.\n",
      "\t Probability of playing Paper is 0.498.\n",
      "\t Probability of playing Scissors is 0.247.\n",
      "\n",
      "\n",
      "\n",
      "\n"
     ]
    }
   ],
   "source": [
    "Single_Evaluation(RPS_Rock_Double()).viable_strategies()"
   ]
  },
  {
   "cell_type": "code",
   "execution_count": 4,
   "id": "43036dff",
   "metadata": {},
   "outputs": [
    {
     "name": "stdout",
     "output_type": "stream",
     "text": [
      "Viable strategies for agent 0:\n",
      "\t Probability of playing Rock is 0.167.\n",
      "\t Probability of playing Paper is 0.334.\n",
      "\t Probability of playing Scissors is 0.332.\n",
      "\t Probability of playing Rock is 0.167.\n",
      "\n",
      "\n",
      "\n",
      "\n",
      "Viable strategies for agent 1:\n",
      "\t Probability of playing Rock is 0.167.\n",
      "\t Probability of playing Paper is 0.332.\n",
      "\t Probability of playing Scissors is 0.335.\n",
      "\t Probability of playing Rock is 0.167.\n",
      "\n",
      "\n",
      "\n",
      "\n"
     ]
    }
   ],
   "source": [
    "Single_Evaluation(RPS_With_Stone()).viable_strategies()"
   ]
  },
  {
   "cell_type": "code",
   "execution_count": null,
   "id": "43bedeb4",
   "metadata": {},
   "outputs": [],
   "source": []
  }
 ],
 "metadata": {
  "kernelspec": {
   "display_name": "Python 3.10.1 64-bit",
   "language": "python",
   "name": "python3"
  },
  "language_info": {
   "codemirror_mode": {
    "name": "ipython",
    "version": 3
   },
   "file_extension": ".py",
   "mimetype": "text/x-python",
   "name": "python",
   "nbconvert_exporter": "python",
   "pygments_lexer": "ipython3",
   "version": "3.10.1"
  },
  "vscode": {
   "interpreter": {
    "hash": "bb7e7e116cf573f9806de94c4b2f308bcfee17df1b0d668c2e26b972481ef263"
   }
  }
 },
 "nbformat": 4,
 "nbformat_minor": 5
}
