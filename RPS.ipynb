{
 "cells": [
  {
   "cell_type": "code",
   "execution_count": 1,
   "id": "5b25cf28",
   "metadata": {},
   "outputs": [],
   "source": [
    "from RPS import *\n",
    "from infrastructure import find_Nash"
   ]
  },
  {
   "cell_type": "markdown",
   "id": "bdf11e71",
   "metadata": {},
   "source": [
    "rock, paper, scissors = 0, 1, 2"
   ]
  },
  {
   "cell_type": "markdown",
   "id": "e1b1d63a",
   "metadata": {},
   "source": [
    "Find Nash equilibrium for RPS"
   ]
  },
  {
   "cell_type": "code",
   "execution_count": 12,
   "id": "54db80ca",
   "metadata": {},
   "outputs": [
    {
     "data": {
      "text/plain": [
       "array([[0.33672501, 0.33138226, 0.33189272],\n",
       "       [0.33153119, 0.33181308, 0.33665572]])"
      ]
     },
     "execution_count": 12,
     "metadata": {},
     "output_type": "execute_result"
    }
   ],
   "source": [
    "g= RPS()\n",
    "find_Nash(g)"
   ]
  },
  {
   "attachments": {},
   "cell_type": "markdown",
   "id": "8f1e0ebe",
   "metadata": {},
   "source": [
    "Find NE for RPS where payoff for Rock vs Scissors is doubled."
   ]
  },
  {
   "cell_type": "code",
   "execution_count": 3,
   "id": "77be57ec",
   "metadata": {},
   "outputs": [
    {
     "data": {
      "text/plain": [
       "array([[0.24881464, 0.50679182, 0.24439354],\n",
       "       [0.24510796, 0.50648153, 0.2484105 ]])"
      ]
     },
     "execution_count": 3,
     "metadata": {},
     "output_type": "execute_result"
    }
   ],
   "source": [
    "find_Nash(RPS_Rock_Double(),iterations=10000)"
   ]
  },
  {
   "cell_type": "code",
   "execution_count": 4,
   "id": "f9aabdd0",
   "metadata": {},
   "outputs": [
    {
     "data": {
      "text/plain": [
       "array([[0.25294644, 0.49462049, 0.25243307],\n",
       "       [0.2574525 , 0.50578919, 0.23675831]])"
      ]
     },
     "execution_count": 4,
     "metadata": {},
     "output_type": "execute_result"
    }
   ],
   "source": [
    "e = Evaluation(RPS_Rock_Double(), 1000, 10)\n",
    "e.average_strategy"
   ]
  },
  {
   "cell_type": "code",
   "execution_count": 4,
   "id": "817b6c65",
   "metadata": {},
   "outputs": [
    {
     "name": "stdout",
     "output_type": "stream",
     "text": [
      "Utility of Agent 0 is 16\n",
      "[0.167 0.33  0.337 0.167]\n",
      "Utility of Agent 1 is -16\n",
      "[0.167 0.335 0.331 0.167]\n"
     ]
    }
   ],
   "source": [
    "find_Nash(RPS_With_Stone())"
   ]
  },
  {
   "cell_type": "code",
   "execution_count": null,
   "id": "43036dff",
   "metadata": {},
   "outputs": [],
   "source": []
  }
 ],
 "metadata": {
  "kernelspec": {
   "display_name": "Python 3.10.1 64-bit",
   "language": "python",
   "name": "python3"
  },
  "language_info": {
   "codemirror_mode": {
    "name": "ipython",
    "version": 3
   },
   "file_extension": ".py",
   "mimetype": "text/x-python",
   "name": "python",
   "nbconvert_exporter": "python",
   "pygments_lexer": "ipython3",
   "version": "3.10.1 (tags/v3.10.1:2cd268a, Dec  6 2021, 19:10:37) [MSC v.1929 64 bit (AMD64)]"
  },
  "vscode": {
   "interpreter": {
    "hash": "bb7e7e116cf573f9806de94c4b2f308bcfee17df1b0d668c2e26b972481ef263"
   }
  }
 },
 "nbformat": 4,
 "nbformat_minor": 5
}
