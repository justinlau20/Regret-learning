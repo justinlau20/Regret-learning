{
 "cells": [
  {
   "cell_type": "code",
   "execution_count": 2,
   "id": "30aa0573",
   "metadata": {},
   "outputs": [],
   "source": [
    "from abc import ABC, abstractmethod\n",
    "import numpy as np\n",
    "import random\n",
    "from numpy import cumsum\n",
    "from numpy.random import rand"
   ]
  },
  {
   "cell_type": "code",
   "execution_count": 3,
   "id": "3cd6a5e4",
   "metadata": {},
   "outputs": [],
   "source": [
    "class Game(ABC):\n",
    "\n",
    "    @abstractmethod\n",
    "    def utility(self, action, index):\n",
    "        \"\"\"\n",
    "        Returns the utility for \n",
    "        \"\"\"\n",
    "        pass"
   ]
  },
  {
   "cell_type": "code",
   "execution_count": 4,
   "id": "f991efe1",
   "metadata": {},
   "outputs": [],
   "source": [
    "class Agent(ABC):\n",
    "    def __init__(self, game, index):\n",
    "        \"\"\"\n",
    "        Agents can keep track of certain statistics, such as regret.\n",
    "        \"\"\"\n",
    "        self.game = game\n",
    "        self.index = index\n",
    "        self.strategy = np.ones(game.action_count) / game.action_count\n",
    "        self.total_utility = 0\n",
    "        \n",
    "    def action(self):\n",
    "        return random.choices(range(self.game.action_count), weights=self.strategy)[0]\n",
    "    \n",
    "    def update(self, actions):\n",
    "        \"\"\"\n",
    "        Takes as input the actions of all agents in the round\n",
    "        \"\"\"\n",
    "        chosen_utility = self.game.utility(actions = actions, index = self.index)\n",
    "        self.total_utility += chosen_utility\n",
    "        return chosen_utility"
   ]
  },
  {
   "cell_type": "code",
   "execution_count": 5,
   "id": "dfd8fc38",
   "metadata": {},
   "outputs": [],
   "source": [
    "class Regret_Minimisation_Agent(Agent):\n",
    "    def __init__(self, game, index):\n",
    "        super().__init__(game, index)\n",
    "        self.regrets = np.zeros(self.game.action_count)\n",
    "        self.strategy_sum = np.copy(self.strategy)\n",
    "    \n",
    "    def update(self, actions):\n",
    "        chosen_utility = super().update(actions)\n",
    "        \n",
    "        for i in range(self.game.action_count):\n",
    "            temp = list(actions)\n",
    "            temp[self.index] = i\n",
    "            action_i_utility = self.game.utility(temp, self.index)\n",
    "            self.regrets[i] += action_i_utility - chosen_utility\n",
    "            \n",
    "        self.strategy = np.array([i if i >= 0 else 0 for i in self.regrets ])\n",
    "        normalising_const = sum(self.strategy)\n",
    "        \n",
    "        if normalising_const <=0:\n",
    "            self.strategy = np.ones(self.game.action_count) / self.game.action_count\n",
    "        else:\n",
    "            self.strategy /= sum(self.strategy)\n",
    "        self.strategy_sum += self.strategy"
   ]
  },
  {
   "cell_type": "code",
   "execution_count": 6,
   "id": "88ae2f89",
   "metadata": {},
   "outputs": [],
   "source": [
    "class Trainer:\n",
    "    def __init__(self, game, agents):\n",
    "        self.game = game\n",
    "        self.agents = agents\n",
    "    \n",
    "    def train(self, n, out=True):\n",
    "        for i in range(n):\n",
    "            action = tuple(agent.action() for agent in agents)\n",
    "\n",
    "            game.history.append(action)\n",
    "            for agent in agents:\n",
    "                agent.update(action)\n",
    "\n",
    "        if out:\n",
    "            for agent in agents:\n",
    "                print(f\"Utility of Agent {agent.index} is {agent.total_utility}\")\n",
    "                if isinstance(agent, Regret_Minimisation_Agent) :\n",
    "                    print(agent.strategy_sum / sum(agent.strategy_sum))"
   ]
  }
 ],
 "metadata": {
  "kernelspec": {
   "display_name": "Python 3 (ipykernel)",
   "language": "python",
   "name": "python3"
  },
  "language_info": {
   "codemirror_mode": {
    "name": "ipython",
    "version": 3
   },
   "file_extension": ".py",
   "mimetype": "text/x-python",
   "name": "python",
   "nbconvert_exporter": "python",
   "pygments_lexer": "ipython3",
   "version": "3.9.7"
  }
 },
 "nbformat": 4,
 "nbformat_minor": 5
}
